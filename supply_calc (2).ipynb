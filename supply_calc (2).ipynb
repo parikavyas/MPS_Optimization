{
  "nbformat": 4,
  "nbformat_minor": 5,
  "metadata": {
    "kernelspec": {
      "display_name": "Python 3 (ipykernel)",
      "language": "python",
      "name": "python3"
    },
    "language_info": {
      "codemirror_mode": {
        "name": "ipython",
        "version": 3
      },
      "file_extension": ".py",
      "mimetype": "text/x-python",
      "name": "python",
      "nbconvert_exporter": "python",
      "pygments_lexer": "ipython3",
      "version": "3.9.6"
    },
    "toc-autonumbering": false,
    "toc-showmarkdowntxt": true,
    "colab": {
      "provenance": []
    }
  },
  "cells": [
    {
      "cell_type": "markdown",
      "metadata": {
        "id": "1ecd4167-7d8b-4b58-a287-0c6fc191d36a"
      },
      "source": [
        "### *Pyomo Tests*"
      ],
      "id": "1ecd4167-7d8b-4b58-a287-0c6fc191d36a"
    },
    {
      "cell_type": "code",
      "metadata": {
        "id": "HdKA0CSGPKpb",
        "colab": {
          "base_uri": "https://localhost:8080/"
        },
        "outputId": "723d3dd2-1ebf-4d01-d4d5-598dd01f3d56"
      },
      "source": [
        "%%sh\n",
        "pyomo help -s"
      ],
      "id": "HdKA0CSGPKpb",
      "execution_count": null,
      "outputs": [
        {
          "output_type": "stream",
          "name": "stderr",
          "text": [
            "sh: 1: pyomo: not found\n"
          ]
        }
      ]
    },
    {
      "cell_type": "code",
      "metadata": {
        "colab": {
          "base_uri": "https://localhost:8080/"
        },
        "id": "m4KqYwoIAOim",
        "outputId": "574e5026-1a7f-4607-b57c-87f844a3545c"
      },
      "source": [
        "!pip install -q pyomo\n",
        "!apt-get install -y -qq glpk-utils"
      ],
      "id": "m4KqYwoIAOim",
      "execution_count": null,
      "outputs": [
        {
          "output_type": "stream",
          "name": "stdout",
          "text": [
            "\u001b[K     |████████████████████████████████| 9.1 MB 5.3 MB/s \n",
            "\u001b[K     |████████████████████████████████| 49 kB 5.0 MB/s \n",
            "\u001b[?25hSelecting previously unselected package libsuitesparseconfig5:amd64.\n",
            "(Reading database ... 155013 files and directories currently installed.)\n",
            "Preparing to unpack .../libsuitesparseconfig5_1%3a5.1.2-2_amd64.deb ...\n",
            "Unpacking libsuitesparseconfig5:amd64 (1:5.1.2-2) ...\n",
            "Selecting previously unselected package libamd2:amd64.\n",
            "Preparing to unpack .../libamd2_1%3a5.1.2-2_amd64.deb ...\n",
            "Unpacking libamd2:amd64 (1:5.1.2-2) ...\n",
            "Selecting previously unselected package libcolamd2:amd64.\n",
            "Preparing to unpack .../libcolamd2_1%3a5.1.2-2_amd64.deb ...\n",
            "Unpacking libcolamd2:amd64 (1:5.1.2-2) ...\n",
            "Selecting previously unselected package libglpk40:amd64.\n",
            "Preparing to unpack .../libglpk40_4.65-1_amd64.deb ...\n",
            "Unpacking libglpk40:amd64 (4.65-1) ...\n",
            "Selecting previously unselected package glpk-utils.\n",
            "Preparing to unpack .../glpk-utils_4.65-1_amd64.deb ...\n",
            "Unpacking glpk-utils (4.65-1) ...\n",
            "Setting up libsuitesparseconfig5:amd64 (1:5.1.2-2) ...\n",
            "Setting up libcolamd2:amd64 (1:5.1.2-2) ...\n",
            "Setting up libamd2:amd64 (1:5.1.2-2) ...\n",
            "Setting up libglpk40:amd64 (4.65-1) ...\n",
            "Setting up glpk-utils (4.65-1) ...\n",
            "Processing triggers for libc-bin (2.27-3ubuntu1.3) ...\n",
            "/sbin/ldconfig.real: /usr/local/lib/python3.7/dist-packages/ideep4py/lib/libmkldnn.so.0 is not a symbolic link\n",
            "\n",
            "Processing triggers for man-db (2.8.3-2ubuntu0.1) ...\n"
          ]
        }
      ]
    },
    {
      "cell_type": "code",
      "metadata": {
        "id": "PwRRe7ZC5Hni"
      },
      "source": [
        "# pip show pyomo==6.1.2\n",
        "# python==3.7.11\n",
        "# glpk==0.4.6"
      ],
      "id": "PwRRe7ZC5Hni",
      "execution_count": null,
      "outputs": []
    },
    {
      "cell_type": "code",
      "metadata": {
        "id": "TlsOQUoPCXyv"
      },
      "source": [
        "\n",
        "model = pe.ConcreteModel()\n",
        "\n",
        "model.x1 = pe.Var(domain=pe.Binary)\n",
        "model.x2 = pe.Var(domain=pe.Binary)\n",
        "model.x3 = pe.Var(domain=pe.Binary)\n",
        "model.x4 = pe.Var(domain=pe.Binary)\n",
        "model.x5 = pe.Var(domain=pe.Binary)\n",
        "\n",
        "obj_expr = 3*model.x1 + 4*model.x2 + 5*model.x3 + 8*model.x4 + 9*model.x5\n",
        "model.obj = pe.Objective(sense=pe.maximize, expr=obj_expr)\n",
        "\n",
        "con_expr = 2*model.x1 + 3*model.x2 + 4*model.x3 + 5*model.x4 + 9*model.x5 <= 20\n",
        "model.con = pe.Constraint(expr=con_expr)\n",
        "result=solver.solve(model,tee=True)"
      ],
      "id": "TlsOQUoPCXyv",
      "execution_count": null,
      "outputs": []
    },
    {
      "cell_type": "code",
      "metadata": {
        "colab": {
          "base_uri": "https://localhost:8080/"
        },
        "id": "qS9vxl4zA8oB",
        "outputId": "34ac1617-30f0-47cc-ce0b-e709baa7879b"
      },
      "source": [
        "print(pe.value(model.x1))\n",
        "print(pe.value(model.x2))\n",
        "print(pe.value(model.x3))\n",
        "print(pe.value(model.x4))\n",
        "print(pe.value(model.x5))\n",
        "print(pe.value(model.obj))"
      ],
      "id": "qS9vxl4zA8oB",
      "execution_count": null,
      "outputs": [
        {
          "output_type": "stream",
          "name": "stdout",
          "text": [
            "1.0\n",
            "0.0\n",
            "1.0\n",
            "1.0\n",
            "1.0\n",
            "25.0\n"
          ]
        }
      ]
    },
    {
      "cell_type": "markdown",
      "metadata": {
        "id": "alYd4KRi8xII"
      },
      "source": [
        "### *Gurobi Tests*"
      ],
      "id": "alYd4KRi8xII"
    },
    {
      "cell_type": "code",
      "metadata": {
        "id": "1ef244ec"
      },
      "source": [
        " import random\n",
        "n = 10\n",
        "m = 5\n",
        "set_I = range(1, n+1)\n",
        "set_J = range(1, m+1)\n",
        "c = {(i,j): random.normalvariate(0,1) for i in set_I for j in set_J}\n",
        "a = {(i,j): random.normalvariate(0,5) for i in set_I for j in set_J}\n",
        "l = {(i,j): random.randint(0,10) for i in set_I for j in set_J}\n",
        "u = {(i,j): random.randint(10,20) for i in set_I for j in set_J}\n",
        "b = {j: random.randint(0,30) for j in set_J}"
      ],
      "id": "1ef244ec",
      "execution_count": null,
      "outputs": []
    },
    {
      "cell_type": "code",
      "metadata": {
        "tags": [],
        "id": "27454d74-ad94-49de-b32a-6ac707f25d09"
      },
      "source": [
        "import gurobipy as grb"
      ],
      "id": "27454d74-ad94-49de-b32a-6ac707f25d09",
      "execution_count": null,
      "outputs": []
    },
    {
      "cell_type": "code",
      "metadata": {
        "id": "12a5c032"
      },
      "source": [
        "opt_model = grb.Model(name=\"MIP Model\")\n",
        "x_vars  ={(i,j):opt_model.addVar(vtype=grb.GRB.CONTINUOUS, \n",
        "                        lb=l[i,j], \n",
        "                        ub= u[i,j],\n",
        "                        name=\"x_{0}_{1}\".format(i,j)) \n",
        "for i in set_I for j in set_J}\n",
        "# if x is Binary\n",
        "x_vars  = {(i,j):opt_model.addVar(vtype=grb.GRB.BINARY,\n",
        "                        name=\"x_{0}_{1}\".format(i,j)) \n",
        "for i in set_I for j in set_J}\n",
        "# if x is Integer\n",
        "x_vars  ={(i,j):opt_model.addVar(vtype=grb.GRB.INTEGER,\n",
        "                        lb=l[i,j], \n",
        "                        ub= u[i,j],\n",
        "                        name=\"x_{0}_{1}\".format(i,j)) \n",
        "for i in set_I for j in set_J}"
      ],
      "id": "12a5c032",
      "execution_count": null,
      "outputs": []
    },
    {
      "cell_type": "code",
      "metadata": {
        "collapsed": true,
        "jupyter": {
          "outputs_hidden": true
        },
        "tags": [],
        "id": "16680a5d",
        "outputId": "da86c173-db85-4961-d7ba-f751aa637340"
      },
      "source": [
        "x_vars"
      ],
      "id": "16680a5d",
      "execution_count": null,
      "outputs": [
        {
          "data": {
            "text/plain": [
              "{(1, 1): <gurobi.Var *Awaiting Model Update*>,\n",
              " (1, 2): <gurobi.Var *Awaiting Model Update*>,\n",
              " (1, 3): <gurobi.Var *Awaiting Model Update*>,\n",
              " (1, 4): <gurobi.Var *Awaiting Model Update*>,\n",
              " (1, 5): <gurobi.Var *Awaiting Model Update*>,\n",
              " (2, 1): <gurobi.Var *Awaiting Model Update*>,\n",
              " (2, 2): <gurobi.Var *Awaiting Model Update*>,\n",
              " (2, 3): <gurobi.Var *Awaiting Model Update*>,\n",
              " (2, 4): <gurobi.Var *Awaiting Model Update*>,\n",
              " (2, 5): <gurobi.Var *Awaiting Model Update*>,\n",
              " (3, 1): <gurobi.Var *Awaiting Model Update*>,\n",
              " (3, 2): <gurobi.Var *Awaiting Model Update*>,\n",
              " (3, 3): <gurobi.Var *Awaiting Model Update*>,\n",
              " (3, 4): <gurobi.Var *Awaiting Model Update*>,\n",
              " (3, 5): <gurobi.Var *Awaiting Model Update*>,\n",
              " (4, 1): <gurobi.Var *Awaiting Model Update*>,\n",
              " (4, 2): <gurobi.Var *Awaiting Model Update*>,\n",
              " (4, 3): <gurobi.Var *Awaiting Model Update*>,\n",
              " (4, 4): <gurobi.Var *Awaiting Model Update*>,\n",
              " (4, 5): <gurobi.Var *Awaiting Model Update*>,\n",
              " (5, 1): <gurobi.Var *Awaiting Model Update*>,\n",
              " (5, 2): <gurobi.Var *Awaiting Model Update*>,\n",
              " (5, 3): <gurobi.Var *Awaiting Model Update*>,\n",
              " (5, 4): <gurobi.Var *Awaiting Model Update*>,\n",
              " (5, 5): <gurobi.Var *Awaiting Model Update*>,\n",
              " (6, 1): <gurobi.Var *Awaiting Model Update*>,\n",
              " (6, 2): <gurobi.Var *Awaiting Model Update*>,\n",
              " (6, 3): <gurobi.Var *Awaiting Model Update*>,\n",
              " (6, 4): <gurobi.Var *Awaiting Model Update*>,\n",
              " (6, 5): <gurobi.Var *Awaiting Model Update*>,\n",
              " (7, 1): <gurobi.Var *Awaiting Model Update*>,\n",
              " (7, 2): <gurobi.Var *Awaiting Model Update*>,\n",
              " (7, 3): <gurobi.Var *Awaiting Model Update*>,\n",
              " (7, 4): <gurobi.Var *Awaiting Model Update*>,\n",
              " (7, 5): <gurobi.Var *Awaiting Model Update*>,\n",
              " (8, 1): <gurobi.Var *Awaiting Model Update*>,\n",
              " (8, 2): <gurobi.Var *Awaiting Model Update*>,\n",
              " (8, 3): <gurobi.Var *Awaiting Model Update*>,\n",
              " (8, 4): <gurobi.Var *Awaiting Model Update*>,\n",
              " (8, 5): <gurobi.Var *Awaiting Model Update*>,\n",
              " (9, 1): <gurobi.Var *Awaiting Model Update*>,\n",
              " (9, 2): <gurobi.Var *Awaiting Model Update*>,\n",
              " (9, 3): <gurobi.Var *Awaiting Model Update*>,\n",
              " (9, 4): <gurobi.Var *Awaiting Model Update*>,\n",
              " (9, 5): <gurobi.Var *Awaiting Model Update*>,\n",
              " (10, 1): <gurobi.Var *Awaiting Model Update*>,\n",
              " (10, 2): <gurobi.Var *Awaiting Model Update*>,\n",
              " (10, 3): <gurobi.Var *Awaiting Model Update*>,\n",
              " (10, 4): <gurobi.Var *Awaiting Model Update*>,\n",
              " (10, 5): <gurobi.Var *Awaiting Model Update*>}"
            ]
          },
          "execution_count": 7,
          "metadata": {},
          "output_type": "execute_result"
        }
      ]
    },
    {
      "cell_type": "markdown",
      "metadata": {
        "id": "mySt9-o3mJJm"
      },
      "source": [
        "### *Supply Tests*"
      ],
      "id": "mySt9-o3mJJm"
    },
    {
      "cell_type": "code",
      "metadata": {
        "id": "8a755eb6-dafe-48ff-9d2f-ba8b98384de5",
        "colab": {
          "base_uri": "https://localhost:8080/",
          "height": 404
        },
        "outputId": "bd06df8b-2d5d-47cd-ecdf-0eea20bdf5f7"
      },
      "source": [
        "import pandas as pd\n",
        "\n",
        "data = pd.read_csv(\"/content/drive/MyDrive/model data/pre_datav2.0.csv\")"
      ],
      "id": "8a755eb6-dafe-48ff-9d2f-ba8b98384de5",
      "execution_count": null,
      "outputs": [
        {
          "output_type": "error",
          "ename": "FileNotFoundError",
          "evalue": "ignored",
          "traceback": [
            "\u001b[0;31m---------------------------------------------------------------------------\u001b[0m",
            "\u001b[0;31mFileNotFoundError\u001b[0m                         Traceback (most recent call last)",
            "\u001b[0;32m<ipython-input-1-a4530fb4fc63>\u001b[0m in \u001b[0;36m<module>\u001b[0;34m()\u001b[0m\n\u001b[1;32m      1\u001b[0m \u001b[0;32mimport\u001b[0m \u001b[0mpandas\u001b[0m \u001b[0;32mas\u001b[0m \u001b[0mpd\u001b[0m\u001b[0;34m\u001b[0m\u001b[0;34m\u001b[0m\u001b[0m\n\u001b[1;32m      2\u001b[0m \u001b[0;34m\u001b[0m\u001b[0m\n\u001b[0;32m----> 3\u001b[0;31m \u001b[0mdata\u001b[0m \u001b[0;34m=\u001b[0m \u001b[0mpd\u001b[0m\u001b[0;34m.\u001b[0m\u001b[0mread_csv\u001b[0m\u001b[0;34m(\u001b[0m\u001b[0;34m\"/content/drive/MyDrive/model data/pre_datav2.0.csv\"\u001b[0m\u001b[0;34m)\u001b[0m\u001b[0;34m\u001b[0m\u001b[0;34m\u001b[0m\u001b[0m\n\u001b[0m",
            "\u001b[0;32m/usr/local/lib/python3.7/dist-packages/pandas/io/parsers.py\u001b[0m in \u001b[0;36mread_csv\u001b[0;34m(filepath_or_buffer, sep, delimiter, header, names, index_col, usecols, squeeze, prefix, mangle_dupe_cols, dtype, engine, converters, true_values, false_values, skipinitialspace, skiprows, skipfooter, nrows, na_values, keep_default_na, na_filter, verbose, skip_blank_lines, parse_dates, infer_datetime_format, keep_date_col, date_parser, dayfirst, cache_dates, iterator, chunksize, compression, thousands, decimal, lineterminator, quotechar, quoting, doublequote, escapechar, comment, encoding, dialect, error_bad_lines, warn_bad_lines, delim_whitespace, low_memory, memory_map, float_precision)\u001b[0m\n\u001b[1;32m    686\u001b[0m     )\n\u001b[1;32m    687\u001b[0m \u001b[0;34m\u001b[0m\u001b[0m\n\u001b[0;32m--> 688\u001b[0;31m     \u001b[0;32mreturn\u001b[0m \u001b[0m_read\u001b[0m\u001b[0;34m(\u001b[0m\u001b[0mfilepath_or_buffer\u001b[0m\u001b[0;34m,\u001b[0m \u001b[0mkwds\u001b[0m\u001b[0;34m)\u001b[0m\u001b[0;34m\u001b[0m\u001b[0;34m\u001b[0m\u001b[0m\n\u001b[0m\u001b[1;32m    689\u001b[0m \u001b[0;34m\u001b[0m\u001b[0m\n\u001b[1;32m    690\u001b[0m \u001b[0;34m\u001b[0m\u001b[0m\n",
            "\u001b[0;32m/usr/local/lib/python3.7/dist-packages/pandas/io/parsers.py\u001b[0m in \u001b[0;36m_read\u001b[0;34m(filepath_or_buffer, kwds)\u001b[0m\n\u001b[1;32m    452\u001b[0m \u001b[0;34m\u001b[0m\u001b[0m\n\u001b[1;32m    453\u001b[0m     \u001b[0;31m# Create the parser.\u001b[0m\u001b[0;34m\u001b[0m\u001b[0;34m\u001b[0m\u001b[0;34m\u001b[0m\u001b[0m\n\u001b[0;32m--> 454\u001b[0;31m     \u001b[0mparser\u001b[0m \u001b[0;34m=\u001b[0m \u001b[0mTextFileReader\u001b[0m\u001b[0;34m(\u001b[0m\u001b[0mfp_or_buf\u001b[0m\u001b[0;34m,\u001b[0m \u001b[0;34m**\u001b[0m\u001b[0mkwds\u001b[0m\u001b[0;34m)\u001b[0m\u001b[0;34m\u001b[0m\u001b[0;34m\u001b[0m\u001b[0m\n\u001b[0m\u001b[1;32m    455\u001b[0m \u001b[0;34m\u001b[0m\u001b[0m\n\u001b[1;32m    456\u001b[0m     \u001b[0;32mif\u001b[0m \u001b[0mchunksize\u001b[0m \u001b[0;32mor\u001b[0m \u001b[0miterator\u001b[0m\u001b[0;34m:\u001b[0m\u001b[0;34m\u001b[0m\u001b[0;34m\u001b[0m\u001b[0m\n",
            "\u001b[0;32m/usr/local/lib/python3.7/dist-packages/pandas/io/parsers.py\u001b[0m in \u001b[0;36m__init__\u001b[0;34m(self, f, engine, **kwds)\u001b[0m\n\u001b[1;32m    946\u001b[0m             \u001b[0mself\u001b[0m\u001b[0;34m.\u001b[0m\u001b[0moptions\u001b[0m\u001b[0;34m[\u001b[0m\u001b[0;34m\"has_index_names\"\u001b[0m\u001b[0;34m]\u001b[0m \u001b[0;34m=\u001b[0m \u001b[0mkwds\u001b[0m\u001b[0;34m[\u001b[0m\u001b[0;34m\"has_index_names\"\u001b[0m\u001b[0;34m]\u001b[0m\u001b[0;34m\u001b[0m\u001b[0;34m\u001b[0m\u001b[0m\n\u001b[1;32m    947\u001b[0m \u001b[0;34m\u001b[0m\u001b[0m\n\u001b[0;32m--> 948\u001b[0;31m         \u001b[0mself\u001b[0m\u001b[0;34m.\u001b[0m\u001b[0m_make_engine\u001b[0m\u001b[0;34m(\u001b[0m\u001b[0mself\u001b[0m\u001b[0;34m.\u001b[0m\u001b[0mengine\u001b[0m\u001b[0;34m)\u001b[0m\u001b[0;34m\u001b[0m\u001b[0;34m\u001b[0m\u001b[0m\n\u001b[0m\u001b[1;32m    949\u001b[0m \u001b[0;34m\u001b[0m\u001b[0m\n\u001b[1;32m    950\u001b[0m     \u001b[0;32mdef\u001b[0m \u001b[0mclose\u001b[0m\u001b[0;34m(\u001b[0m\u001b[0mself\u001b[0m\u001b[0;34m)\u001b[0m\u001b[0;34m:\u001b[0m\u001b[0;34m\u001b[0m\u001b[0;34m\u001b[0m\u001b[0m\n",
            "\u001b[0;32m/usr/local/lib/python3.7/dist-packages/pandas/io/parsers.py\u001b[0m in \u001b[0;36m_make_engine\u001b[0;34m(self, engine)\u001b[0m\n\u001b[1;32m   1178\u001b[0m     \u001b[0;32mdef\u001b[0m \u001b[0m_make_engine\u001b[0m\u001b[0;34m(\u001b[0m\u001b[0mself\u001b[0m\u001b[0;34m,\u001b[0m \u001b[0mengine\u001b[0m\u001b[0;34m=\u001b[0m\u001b[0;34m\"c\"\u001b[0m\u001b[0;34m)\u001b[0m\u001b[0;34m:\u001b[0m\u001b[0;34m\u001b[0m\u001b[0;34m\u001b[0m\u001b[0m\n\u001b[1;32m   1179\u001b[0m         \u001b[0;32mif\u001b[0m \u001b[0mengine\u001b[0m \u001b[0;34m==\u001b[0m \u001b[0;34m\"c\"\u001b[0m\u001b[0;34m:\u001b[0m\u001b[0;34m\u001b[0m\u001b[0;34m\u001b[0m\u001b[0m\n\u001b[0;32m-> 1180\u001b[0;31m             \u001b[0mself\u001b[0m\u001b[0;34m.\u001b[0m\u001b[0m_engine\u001b[0m \u001b[0;34m=\u001b[0m \u001b[0mCParserWrapper\u001b[0m\u001b[0;34m(\u001b[0m\u001b[0mself\u001b[0m\u001b[0;34m.\u001b[0m\u001b[0mf\u001b[0m\u001b[0;34m,\u001b[0m \u001b[0;34m**\u001b[0m\u001b[0mself\u001b[0m\u001b[0;34m.\u001b[0m\u001b[0moptions\u001b[0m\u001b[0;34m)\u001b[0m\u001b[0;34m\u001b[0m\u001b[0;34m\u001b[0m\u001b[0m\n\u001b[0m\u001b[1;32m   1181\u001b[0m         \u001b[0;32melse\u001b[0m\u001b[0;34m:\u001b[0m\u001b[0;34m\u001b[0m\u001b[0;34m\u001b[0m\u001b[0m\n\u001b[1;32m   1182\u001b[0m             \u001b[0;32mif\u001b[0m \u001b[0mengine\u001b[0m \u001b[0;34m==\u001b[0m \u001b[0;34m\"python\"\u001b[0m\u001b[0;34m:\u001b[0m\u001b[0;34m\u001b[0m\u001b[0;34m\u001b[0m\u001b[0m\n",
            "\u001b[0;32m/usr/local/lib/python3.7/dist-packages/pandas/io/parsers.py\u001b[0m in \u001b[0;36m__init__\u001b[0;34m(self, src, **kwds)\u001b[0m\n\u001b[1;32m   2008\u001b[0m         \u001b[0mkwds\u001b[0m\u001b[0;34m[\u001b[0m\u001b[0;34m\"usecols\"\u001b[0m\u001b[0;34m]\u001b[0m \u001b[0;34m=\u001b[0m \u001b[0mself\u001b[0m\u001b[0;34m.\u001b[0m\u001b[0musecols\u001b[0m\u001b[0;34m\u001b[0m\u001b[0;34m\u001b[0m\u001b[0m\n\u001b[1;32m   2009\u001b[0m \u001b[0;34m\u001b[0m\u001b[0m\n\u001b[0;32m-> 2010\u001b[0;31m         \u001b[0mself\u001b[0m\u001b[0;34m.\u001b[0m\u001b[0m_reader\u001b[0m \u001b[0;34m=\u001b[0m \u001b[0mparsers\u001b[0m\u001b[0;34m.\u001b[0m\u001b[0mTextReader\u001b[0m\u001b[0;34m(\u001b[0m\u001b[0msrc\u001b[0m\u001b[0;34m,\u001b[0m \u001b[0;34m**\u001b[0m\u001b[0mkwds\u001b[0m\u001b[0;34m)\u001b[0m\u001b[0;34m\u001b[0m\u001b[0;34m\u001b[0m\u001b[0m\n\u001b[0m\u001b[1;32m   2011\u001b[0m         \u001b[0mself\u001b[0m\u001b[0;34m.\u001b[0m\u001b[0munnamed_cols\u001b[0m \u001b[0;34m=\u001b[0m \u001b[0mself\u001b[0m\u001b[0;34m.\u001b[0m\u001b[0m_reader\u001b[0m\u001b[0;34m.\u001b[0m\u001b[0munnamed_cols\u001b[0m\u001b[0;34m\u001b[0m\u001b[0;34m\u001b[0m\u001b[0m\n\u001b[1;32m   2012\u001b[0m \u001b[0;34m\u001b[0m\u001b[0m\n",
            "\u001b[0;32mpandas/_libs/parsers.pyx\u001b[0m in \u001b[0;36mpandas._libs.parsers.TextReader.__cinit__\u001b[0;34m()\u001b[0m\n",
            "\u001b[0;32mpandas/_libs/parsers.pyx\u001b[0m in \u001b[0;36mpandas._libs.parsers.TextReader._setup_parser_source\u001b[0;34m()\u001b[0m\n",
            "\u001b[0;31mFileNotFoundError\u001b[0m: [Errno 2] No such file or directory: '/content/drive/MyDrive/model data/pre_datav2.0.csv'"
          ]
        }
      ]
    },
    {
      "cell_type": "code",
      "metadata": {
        "id": "98db2710-a414-47a0-bed2-6b62b3c43fd2"
      },
      "source": [
        "colnames =['date','demands_prod1','transfer_supply_quantity_prod1','expired_quantity_prod1','balance_prod1']\n",
        "\n",
        "input = data[colnames]"
      ],
      "id": "98db2710-a414-47a0-bed2-6b62b3c43fd2",
      "execution_count": null,
      "outputs": []
    },
    {
      "cell_type": "code",
      "metadata": {
        "id": "69e7e14f-0268-466f-a294-e4e7fcc9f2a3"
      },
      "source": [
        "input.head()"
      ],
      "id": "69e7e14f-0268-466f-a294-e4e7fcc9f2a3",
      "execution_count": null,
      "outputs": []
    },
    {
      "cell_type": "markdown",
      "metadata": {
        "id": "ff053380-4aad-4194-97bf-08eb12536432"
      },
      "source": [
        "$Balance_i = Balance_{i-1} + Supply_{i} - Demand_{i}$"
      ],
      "id": "ff053380-4aad-4194-97bf-08eb12536432"
    },
    {
      "cell_type": "code",
      "metadata": {
        "id": "bae8333e-1201-4075-bbb1-460c9bb837ad"
      },
      "source": [
        "balance = [int(data.demands_prod1[0]) + int(data.balance_prod1[0]) - data.transfer_supply_quantity_prod1[0]]\n",
        "\n",
        "target = 4\n",
        "lot_yield = 7000\n",
        "def get_supply(balance,i):\n",
        "    b = input.demands_prod1[i:i+target].sum()\n",
        "    pred_supply = max(0,(b - (balance - input.demands_prod1[i])))\n",
        "    return (pred_supply - (pred_supply%lot_yield))\n",
        "\n",
        "get_supply(balance[0],10)"
      ],
      "id": "bae8333e-1201-4075-bbb1-460c9bb837ad",
      "execution_count": null,
      "outputs": []
    },
    {
      "cell_type": "code",
      "metadata": {
        "id": "fa4f3f5c-b084-46b4-9075-9b122a2b8a21"
      },
      "source": [
        "supply = []\n",
        "for i in input.index:\n",
        "    supply.append(get_supply(balance[i],i))\n",
        "    balance.append(balance[i] + supply[i] + input.transfer_supply_quantity_prod1[i] -(input.demands_prod1[i] + input.expired_quantity_prod1[i]))\n",
        "    "
      ],
      "id": "fa4f3f5c-b084-46b4-9075-9b122a2b8a21",
      "execution_count": null,
      "outputs": []
    },
    {
      "cell_type": "code",
      "metadata": {
        "id": "184f5366-3bca-4a39-9399-899371865f4a"
      },
      "source": [
        "out = input.copy(deep=True)"
      ],
      "id": "184f5366-3bca-4a39-9399-899371865f4a",
      "execution_count": null,
      "outputs": []
    },
    {
      "cell_type": "code",
      "metadata": {
        "id": "5e515ac5-7824-4499-878f-c1f8fc0f2946"
      },
      "source": [
        "out['supply_prod1'] = supply\n",
        "out['balance_prod1'] = balance[1:]"
      ],
      "id": "5e515ac5-7824-4499-878f-c1f8fc0f2946",
      "execution_count": null,
      "outputs": []
    },
    {
      "cell_type": "code",
      "metadata": {
        "id": "887a1ff3-ca06-4535-993f-ba551b9cde49",
        "colab": {
          "base_uri": "https://localhost:8080/"
        },
        "outputId": "f6171adc-1143-4eae-f17c-7cf7d923f693"
      },
      "source": [
        "162222-8548+35326"
      ],
      "id": "887a1ff3-ca06-4535-993f-ba551b9cde49",
      "execution_count": null,
      "outputs": [
        {
          "output_type": "execute_result",
          "data": {
            "text/plain": [
              "189000"
            ]
          },
          "metadata": {},
          "execution_count": 16
        }
      ]
    },
    {
      "cell_type": "code",
      "metadata": {
        "id": "e7603f95-e80e-4adf-a4a6-c0a84a569746"
      },
      "source": [
        "out.head(10)"
      ],
      "id": "e7603f95-e80e-4adf-a4a6-c0a84a569746",
      "execution_count": null,
      "outputs": []
    },
    {
      "cell_type": "code",
      "metadata": {
        "id": "ce1e5432-c385-4d1d-94c1-4eab48acda0c"
      },
      "source": [
        "def get_MFC(demands, balance):\n",
        "    if (demands.cumsum()>balance).any():\n",
        "        index = (demands.cumsum()>balance).idxmax()\n",
        "        excess_prop = (balance - demands.cumsum()[index-1])/balance\n",
        "        return (index+excess_prop)\n",
        "    else:\n",
        "        return len(demands)\n",
        "\n",
        "mfc = []\n",
        "for i in out.index:\n",
        "    mfc.append(get_MFC(out.demands_prod1[i+1:].reset_index(drop=True), out.balance_prod1[i]))"
      ],
      "id": "ce1e5432-c385-4d1d-94c1-4eab48acda0c",
      "execution_count": null,
      "outputs": []
    },
    {
      "cell_type": "code",
      "metadata": {
        "id": "1f3181fc-a8b6-4ddf-8951-e6f30a1b04df"
      },
      "source": [
        "out['MFC'] = mfc"
      ],
      "id": "1f3181fc-a8b6-4ddf-8951-e6f30a1b04df",
      "execution_count": null,
      "outputs": []
    },
    {
      "cell_type": "code",
      "metadata": {
        "id": "1fb58cee-ed15-4050-b153-803a87152dfa"
      },
      "source": [
        "out.MFC.describe()"
      ],
      "id": "1fb58cee-ed15-4050-b153-803a87152dfa",
      "execution_count": null,
      "outputs": []
    },
    {
      "cell_type": "code",
      "metadata": {
        "id": "db403953-c718-46b8-b5c7-d5988ea45392"
      },
      "source": [
        "out"
      ],
      "id": "db403953-c718-46b8-b5c7-d5988ea45392",
      "execution_count": null,
      "outputs": []
    },
    {
      "cell_type": "markdown",
      "metadata": {
        "tags": [],
        "id": "22a68676-d9c6-414f-932a-2e1c83468098"
      },
      "source": [
        "### *Supply Quantity Calculation*"
      ],
      "id": "22a68676-d9c6-414f-932a-2e1c83468098"
    },
    {
      "cell_type": "code",
      "metadata": {
        "colab": {
          "base_uri": "https://localhost:8080/"
        },
        "id": "UYlPcIudPlrH",
        "outputId": "78d0098b-3427-41b1-f7ad-e0edc3310b8c"
      },
      "source": [
        "from google.colab import drive\n",
        "drive.mount('/content/drive')"
      ],
      "id": "UYlPcIudPlrH",
      "execution_count": null,
      "outputs": [
        {
          "output_type": "stream",
          "name": "stdout",
          "text": [
            "Mounted at /content/drive\n"
          ]
        }
      ]
    },
    {
      "cell_type": "code",
      "metadata": {
        "colab": {
          "base_uri": "https://localhost:8080/"
        },
        "id": "lijv94PnTPTv",
        "outputId": "8c05c3da-6369-4179-b15d-c6293cb5b4f5"
      },
      "source": [
        "import pandas as pd\n",
        "\n",
        "def get_prod_names():\n",
        "    data = pd.read_csv('drive/MyDrive/model data/product_level_data2.csv')\n",
        "    return data[\"product\"].unique()\n",
        "\n",
        "def get_product_level_data(prod):\n",
        "    '''Input product name to get respective yield per lot'''\n",
        "    data = pd.read_csv('drive/MyDrive/model data/product_level_data2.csv')\n",
        "    return data[data[\"product\"]==prod].target_mfc, int(data[data[\"product\"]==prod].yield_per_lot)\n",
        "\n",
        "def get_prod_balance(prod):\n",
        "  '''\n",
        "  '''\n",
        "  balance = {'Product 1': 80000, 'Product 2': 81760, 'Product 3': 10000 , 'Product 4' : 10000 , 'Product 5' : 163765 , 'Product 6': 122316}\n",
        "  return balance[prod]\n",
        "\n",
        "def get_supply(demands,balance,i):\n",
        "    '''Input last inventory balance and month index to get supply for target MFC'''\n",
        "    b = data.demands[i:i+int(target)].sum()\n",
        "    pred_supply = max(0,(b - (balance + data.transfer_supply_quantity[i] - (float(data.demands[i]) + data.expired_quantity[i]))))\n",
        "    return (pred_supply - (pred_supply%lot_yield))\n",
        "\n",
        "def get_MFC(demands, balance):\n",
        "    '''Input future demand and current inventory balance to find MFC'''\n",
        "    if (demands.cumsum()>balance).any():\n",
        "        index = (demands.cumsum()>balance).idxmax()\n",
        "        excess_prop = (balance - demands.cumsum()[index-1])/balance\n",
        "        return (index + excess_prop)\n",
        "    else:\n",
        "        return len(demands)\n",
        "\n",
        "def change_demand(data):\n",
        "  data[\"demands\"][1:-1:2] = 0\n",
        "  #return data\n",
        "\n",
        "def demand_sum(horizon,demands,span):\n",
        "  demand_sum = []\n",
        "  for i in range(horizon):\n",
        "    demand_sum.append(sum(demands[i:i+span]))\n",
        "  return demand_sum\n",
        "\n",
        "    \n",
        "#Fixed-point target\n",
        "'''Build for non-integral target values'''\n",
        "# target = 4\n",
        "'''Method to input product name and balance'''\n",
        "\n",
        "# prod = get_prod_names()[0]\n",
        "planning_horizon = (2*12)\n",
        "\n",
        "prod_demands = {}\n",
        "horizon = 12\n",
        "span = 11\n",
        "# Read data\n",
        "data = pd.read_csv(\"drive/MyDrive/model data/predata3.csv\")\n",
        "data.rename(columns = {'part' : 'product_name'}, inplace = True)\n",
        "colnames = ['product_name','date','demands','transfer_supply_quantity','expired_quantity']\n",
        "data = data[colnames]\n",
        "\n",
        "#change_demand(data)\n",
        "#print(data[:25])\n",
        "#data[\"demands\"] = data[\"demands\"] - 1000\n",
        "prod_name = data.product_name.unique()\n",
        "output_df =pd.DataFrame(columns=colnames)\n",
        "for prod in prod_name:\n",
        "  prod_data = data[data[\"product_name\"]==prod].reset_index(drop=True)\n",
        "  prod_demands[prod] = demand_sum(horizon, prod_data['demands'], span)\n",
        "  prod_data = prod_data[:planning_horizon]\n",
        "  #prod_data['net_supply'] = prod_data['transfer_supply_quantity'] - prod_data['demands'] - prod_data['expired_quantity']\n",
        "  target, lot_yield = get_product_level_data(prod)\n",
        "  #Getting supply values for all data\n",
        "  supply = []\n",
        "  balance = [get_prod_balance(prod)]\n",
        "  #print(prod_data.index)\n",
        "  balance_wo_supply = [get_prod_balance(prod)]\n",
        "  for i in prod_data.index:\n",
        "      supply.append(get_supply(prod_data.demands,balance[i],i))\n",
        "      balance.append(balance[i] + supply[i] + prod_data.transfer_supply_quantity[i] - (prod_data.demands[i] + prod_data.expired_quantity[i]))\n",
        "      if i < len(prod_data.index) - 1:\n",
        "        balance_wo_supply.append(balance_wo_supply[i] + prod_data.transfer_supply_quantity[i+1] - (prod_data.demands[i+1] + prod_data.expired_quantity[i+1]))\n",
        "\n",
        "  #print(balance_wo_supply)\n",
        "  #print(supply)\n",
        "  out = prod_data.copy(deep=True)\n",
        "  out['balance'] = balance[1:]\n",
        "  #print(out['balance'])\n",
        "  out['supply'] = supply\n",
        "\n",
        "  #Getting MFC for all data\n",
        "  \"\"\"\n",
        "  mfc = []\n",
        "  for i in out.index:\n",
        "      mfc.append(get_MFC(out.demands[i+1:].reset_index(drop=True), out.balance[i]))\n",
        "  \"\"\"\n",
        "\n",
        "  out[\"lot_size\"] = out.supply.apply(lambda x: int(x/lot_yield))\n",
        "  #out['MFC'] = mfc\n",
        "  print(\"For \",prod)\n",
        "  #print(out.MFC.describe())\n",
        "  output_df = output_df.append(out)\n",
        "\n",
        "#print(prod_demands)\n",
        "print(output_df[['date', 'demands', 'transfer_supply_quantity','expired_quantity', 'balance', 'supply']][:60])"
      ],
      "id": "lijv94PnTPTv",
      "execution_count": null,
      "outputs": [
        {
          "output_type": "stream",
          "name": "stdout",
          "text": [
            "For  Product 1\n",
            "For  Product 2\n",
            "For  Product 5\n",
            "For  Product 6\n",
            "        date demands  ...   balance   supply\n",
            "0   1-Jul-21   13728  ...   74820.0      0.0\n",
            "1   1-Aug-21   16792  ...   65701.0      0.0\n",
            "2   1-Sep-21   16915  ...   62794.0   7000.0\n",
            "3   1-Oct-21   15741  ...   62170.0   7000.0\n",
            "4   1-Nov-21   17930  ...   60848.0   7000.0\n",
            "5   1-Dec-21   17098  ...   58143.0   7000.0\n",
            "6   1-Jan-22   16111  ...   54993.0   7000.0\n",
            "7   1-Feb-22   13923  ...   45877.0      0.0\n",
            "8   1-Mar-22   13073  ...   53195.0  14000.0\n",
            "9   1-Apr-22   14133  ...   59193.0  14000.0\n",
            "10  1-May-22   10737  ...   61857.0   7000.0\n",
            "11  1-Jun-22   18964  ...   72492.0  21000.0\n",
            "12  1-Jul-22   16670  ...   69250.0   7000.0\n",
            "13  1-Aug-22   19111  ...   59145.0      0.0\n",
            "14  1-Sep-22   17753  ...   56228.0   7000.0\n",
            "15  1-Oct-22   15872  ...   55577.0   7000.0\n",
            "16  1-Nov-22   11366  ...   50739.0      0.0\n",
            "17  1-Dec-22   17369  ...   62492.0  21000.0\n",
            "18  1-Jan-23   13934  ...   53492.0      0.0\n",
            "19  1-Feb-23   12566  ...   53344.0   7000.0\n",
            "20  1-Mar-23   19083  ...   56742.0  14000.0\n",
            "21  1-Apr-23   14262  ...   47479.0      0.0\n",
            "22  1-May-23   14167  ...   47595.0   7000.0\n",
            "23  1-Jun-23   10908  ...   42870.0      0.0\n",
            "0   1-Jul-21   21760  ...   65783.0      0.0\n",
            "1   1-Aug-21   19429  ...   51594.0      0.0\n",
            "2   1-Sep-21   23375  ...   52015.0  15000.0\n",
            "3   1-Oct-21   20359  ...   51650.0  15000.0\n",
            "4   1-Nov-21   20189  ...   52269.0  15000.0\n",
            "5   1-Dec-21   21022  ...   52475.0  15000.0\n",
            "6   1-Jan-22   25790  ...   33872.0      0.0\n",
            "7   1-Feb-22   22987  ...   31116.0  15000.0\n",
            "8   1-Mar-22   26240  ...   43807.0  30000.0\n",
            "9   1-Apr-22   18605  ...   45510.0  15000.0\n",
            "10  1-May-22   25763  ...   41528.0  15000.0\n",
            "11  1-Jun-22   24590  ...   53657.0  30000.0\n",
            "12  1-Jul-22   26164  ...   51016.0  15000.0\n",
            "13  1-Aug-22   23195  ...   50503.0  15000.0\n",
            "14  1-Sep-22   20711  ...   52171.0  15000.0\n",
            "15  1-Oct-22   24079  ...   36967.0      0.0\n",
            "16  1-Nov-22   21779  ...   37457.0  15000.0\n",
            "17  1-Dec-22   24892  ...   50075.0  30000.0\n",
            "18  1-Jan-23   24034  ...   45834.0  15000.0\n",
            "19  1-Feb-23   20233  ...   47087.0  15000.0\n",
            "20  1-Mar-23   22870  ...   47581.0  15000.0\n",
            "21  1-Apr-23   24588  ...   27881.0      0.0\n",
            "22  1-May-23   30089  ...   36976.0  30000.0\n",
            "23  1-Jun-23   24893  ...   32452.0  15000.0\n",
            "0   1-Jul-21   33765  ...  135783.0      0.0\n",
            "1   1-Aug-21   37065  ...  103958.0      0.0\n",
            "2   1-Sep-21   41871  ...   70883.0      0.0\n",
            "3   1-Oct-21   33739  ...   42138.0      0.0\n",
            "4   1-Nov-21   34438  ...   43508.0  30000.0\n",
            "5   1-Dec-21   32705  ...   37031.0  20000.0\n",
            "6   1-Jan-22   33462  ...   40756.0  30000.0\n",
            "7   1-Feb-22   34082  ...   31905.0  20000.0\n",
            "8   1-Mar-22   37163  ...   33673.0  30000.0\n",
            "9   1-Apr-22   31127  ...   37854.0  30000.0\n",
            "10  1-May-22   36186  ...   38449.0  30000.0\n",
            "11  1-Jun-22   37133  ...   48035.0  40000.0\n",
            "\n",
            "[60 rows x 6 columns]\n"
          ]
        }
      ]
    },
    {
      "cell_type": "code",
      "metadata": {
        "colab": {
          "base_uri": "https://localhost:8080/",
          "height": 450
        },
        "id": "WAS860XlEMox",
        "outputId": "91be67c5-cc90-4f0e-d8b3-b828aafda120"
      },
      "source": [
        "import pandas as pd\n",
        "\n",
        "def get_prod_names():\n",
        "    data = pd.read_csv('drive/MyDrive/model data/product_level_data.csv')\n",
        "    return data[\"product\"].unique()\n",
        "\n",
        "def get_product_level_data(prod):\n",
        "    '''Input product name to get respective yield per lot'''\n",
        "    data = pd.read_csv('drive/MyDrive/model data/product_level_data.csv')\n",
        "    return data[data[\"product\"]==prod].target_mfc, int(data[data[\"product\"]==prod].yield_per_lot)\n",
        "\n",
        "def get_prod_balance(prod):\n",
        "  '''\n",
        "  '''\n",
        "  balance = {'Product 1': 189000, 'Product 2': 300000 }\n",
        "  return balance[prod]\n",
        "\n",
        "def get_supply(demands,balance,i):\n",
        "    '''Input last inventory balance and month index to get supply for target MFC'''\n",
        "    b = data.demands[i:i+int(target)].sum()\n",
        "    pred_supply = max(0,(b - (balance + data.transfer_supply_quantity[i] - (data.demands[i] + data.expired_quantity[i]))))\n",
        "    return (pred_supply - (pred_supply%lot_yield))\n",
        "\n",
        "def get_MFC(demands, balance):\n",
        "    '''Input future demand and current inventory balance to find MFC'''\n",
        "    if (demands.cumsum()>balance).any():\n",
        "        index = (demands.cumsum()>balance).idxmax()\n",
        "        excess_prop = (balance - demands.cumsum()[index-1])/balance\n",
        "        return (index + excess_prop)\n",
        "    else:\n",
        "        return len(demands)\n",
        "\n",
        "    \n",
        "#Fixed-point target\n",
        "'''Build for non-integral target values'''\n",
        "# target = 4\n",
        "'''Method to input product name and balance'''\n",
        "\n",
        "# prod = get_prod_names()[0]\n",
        "planning_horizon = (2*12)\n",
        "\n",
        "\n",
        "# Read data\n",
        "data = pd.read_csv(\"drive/MyDrive/model data/predata3.csv\")\n",
        "data.rename(columns = {'part' : 'product_name'}, inplace = True)\n",
        "colnames = ['product_name','date','demands','transfer_supply_quantity','expired_quantity']\n",
        "data = data[colnames]\n",
        "prod_name = data.product_name.unique()\n",
        "\n",
        "output_df =pd.DataFrame(columns=colnames)\n",
        "for prod in prod_name:\n",
        "  prod_data = data[data[\"product_name\"]==prod].reset_index(drop=True)\n",
        "  prod_data = prod_data[:planning_horizon]\n",
        "  target, lot_yield = get_product_level_data(prod)\n",
        "  #Getting supply values for all data\n",
        "  supply = []\n",
        "  balance = [get_prod_balance(prod)]\n",
        "  for i in prod_data.index:\n",
        "      supply.append(get_supply(prod_data.demands,balance[i],i))\n",
        "      balance.append(balance[i] + supply[i] + prod_data.transfer_supply_quantity[i] - (prod_data.demands[i] + prod_data.expired_quantity[i]))\n",
        "\n",
        "  out = prod_data.copy(deep=True)\n",
        "  out['balance'] = balance[1:]\n",
        "  out['supply'] = supply\n",
        "\n",
        "  #Getting MFC for all data\n",
        "  mfc = []\n",
        "  for i in out.index:\n",
        "      mfc.append(get_MFC(out.demands[i+1:].reset_index(drop=True), out.balance[i]))\n",
        "\n",
        "  out[\"lot_size\"] = out.supply.apply(lambda x: int(x/lot_yield))\n",
        "  out['MFC'] = mfc\n",
        "  print(\"For \",prod)\n",
        "  print(out.MFC.describe())\n",
        "  output_df = output_df.append(out)\n",
        "\n",
        "print(output_df)"
      ],
      "id": "WAS860XlEMox",
      "execution_count": null,
      "outputs": [
        {
          "output_type": "error",
          "ename": "FileNotFoundError",
          "evalue": "ignored",
          "traceback": [
            "\u001b[0;31m---------------------------------------------------------------------------\u001b[0m",
            "\u001b[0;31mFileNotFoundError\u001b[0m                         Traceback (most recent call last)",
            "\u001b[0;32m<ipython-input-1-d6eeda341027>\u001b[0m in \u001b[0;36m<module>\u001b[0;34m()\u001b[0m\n\u001b[1;32m     42\u001b[0m \u001b[0;34m\u001b[0m\u001b[0m\n\u001b[1;32m     43\u001b[0m \u001b[0;31m# Read data\u001b[0m\u001b[0;34m\u001b[0m\u001b[0;34m\u001b[0m\u001b[0;34m\u001b[0m\u001b[0m\n\u001b[0;32m---> 44\u001b[0;31m \u001b[0mdata\u001b[0m \u001b[0;34m=\u001b[0m \u001b[0mpd\u001b[0m\u001b[0;34m.\u001b[0m\u001b[0mread_csv\u001b[0m\u001b[0;34m(\u001b[0m\u001b[0;34m\"drive/MyDrive/model data/predata3.csv\"\u001b[0m\u001b[0;34m)\u001b[0m\u001b[0;34m\u001b[0m\u001b[0;34m\u001b[0m\u001b[0m\n\u001b[0m\u001b[1;32m     45\u001b[0m \u001b[0mdata\u001b[0m\u001b[0;34m.\u001b[0m\u001b[0mrename\u001b[0m\u001b[0;34m(\u001b[0m\u001b[0mcolumns\u001b[0m \u001b[0;34m=\u001b[0m \u001b[0;34m{\u001b[0m\u001b[0;34m'part'\u001b[0m \u001b[0;34m:\u001b[0m \u001b[0;34m'product_name'\u001b[0m\u001b[0;34m}\u001b[0m\u001b[0;34m,\u001b[0m \u001b[0minplace\u001b[0m \u001b[0;34m=\u001b[0m \u001b[0;32mTrue\u001b[0m\u001b[0;34m)\u001b[0m\u001b[0;34m\u001b[0m\u001b[0;34m\u001b[0m\u001b[0m\n\u001b[1;32m     46\u001b[0m \u001b[0mcolnames\u001b[0m \u001b[0;34m=\u001b[0m \u001b[0;34m[\u001b[0m\u001b[0;34m'product_name'\u001b[0m\u001b[0;34m,\u001b[0m\u001b[0;34m'date'\u001b[0m\u001b[0;34m,\u001b[0m\u001b[0;34m'demands'\u001b[0m\u001b[0;34m,\u001b[0m\u001b[0;34m'transfer_supply_quantity'\u001b[0m\u001b[0;34m,\u001b[0m\u001b[0;34m'expired_quantity'\u001b[0m\u001b[0;34m]\u001b[0m\u001b[0;34m\u001b[0m\u001b[0;34m\u001b[0m\u001b[0m\n",
            "\u001b[0;32m/usr/local/lib/python3.7/dist-packages/pandas/io/parsers.py\u001b[0m in \u001b[0;36mread_csv\u001b[0;34m(filepath_or_buffer, sep, delimiter, header, names, index_col, usecols, squeeze, prefix, mangle_dupe_cols, dtype, engine, converters, true_values, false_values, skipinitialspace, skiprows, skipfooter, nrows, na_values, keep_default_na, na_filter, verbose, skip_blank_lines, parse_dates, infer_datetime_format, keep_date_col, date_parser, dayfirst, cache_dates, iterator, chunksize, compression, thousands, decimal, lineterminator, quotechar, quoting, doublequote, escapechar, comment, encoding, dialect, error_bad_lines, warn_bad_lines, delim_whitespace, low_memory, memory_map, float_precision)\u001b[0m\n\u001b[1;32m    686\u001b[0m     )\n\u001b[1;32m    687\u001b[0m \u001b[0;34m\u001b[0m\u001b[0m\n\u001b[0;32m--> 688\u001b[0;31m     \u001b[0;32mreturn\u001b[0m \u001b[0m_read\u001b[0m\u001b[0;34m(\u001b[0m\u001b[0mfilepath_or_buffer\u001b[0m\u001b[0;34m,\u001b[0m \u001b[0mkwds\u001b[0m\u001b[0;34m)\u001b[0m\u001b[0;34m\u001b[0m\u001b[0;34m\u001b[0m\u001b[0m\n\u001b[0m\u001b[1;32m    689\u001b[0m \u001b[0;34m\u001b[0m\u001b[0m\n\u001b[1;32m    690\u001b[0m \u001b[0;34m\u001b[0m\u001b[0m\n",
            "\u001b[0;32m/usr/local/lib/python3.7/dist-packages/pandas/io/parsers.py\u001b[0m in \u001b[0;36m_read\u001b[0;34m(filepath_or_buffer, kwds)\u001b[0m\n\u001b[1;32m    452\u001b[0m \u001b[0;34m\u001b[0m\u001b[0m\n\u001b[1;32m    453\u001b[0m     \u001b[0;31m# Create the parser.\u001b[0m\u001b[0;34m\u001b[0m\u001b[0;34m\u001b[0m\u001b[0;34m\u001b[0m\u001b[0m\n\u001b[0;32m--> 454\u001b[0;31m     \u001b[0mparser\u001b[0m \u001b[0;34m=\u001b[0m \u001b[0mTextFileReader\u001b[0m\u001b[0;34m(\u001b[0m\u001b[0mfp_or_buf\u001b[0m\u001b[0;34m,\u001b[0m \u001b[0;34m**\u001b[0m\u001b[0mkwds\u001b[0m\u001b[0;34m)\u001b[0m\u001b[0;34m\u001b[0m\u001b[0;34m\u001b[0m\u001b[0m\n\u001b[0m\u001b[1;32m    455\u001b[0m \u001b[0;34m\u001b[0m\u001b[0m\n\u001b[1;32m    456\u001b[0m     \u001b[0;32mif\u001b[0m \u001b[0mchunksize\u001b[0m \u001b[0;32mor\u001b[0m \u001b[0miterator\u001b[0m\u001b[0;34m:\u001b[0m\u001b[0;34m\u001b[0m\u001b[0;34m\u001b[0m\u001b[0m\n",
            "\u001b[0;32m/usr/local/lib/python3.7/dist-packages/pandas/io/parsers.py\u001b[0m in \u001b[0;36m__init__\u001b[0;34m(self, f, engine, **kwds)\u001b[0m\n\u001b[1;32m    946\u001b[0m             \u001b[0mself\u001b[0m\u001b[0;34m.\u001b[0m\u001b[0moptions\u001b[0m\u001b[0;34m[\u001b[0m\u001b[0;34m\"has_index_names\"\u001b[0m\u001b[0;34m]\u001b[0m \u001b[0;34m=\u001b[0m \u001b[0mkwds\u001b[0m\u001b[0;34m[\u001b[0m\u001b[0;34m\"has_index_names\"\u001b[0m\u001b[0;34m]\u001b[0m\u001b[0;34m\u001b[0m\u001b[0;34m\u001b[0m\u001b[0m\n\u001b[1;32m    947\u001b[0m \u001b[0;34m\u001b[0m\u001b[0m\n\u001b[0;32m--> 948\u001b[0;31m         \u001b[0mself\u001b[0m\u001b[0;34m.\u001b[0m\u001b[0m_make_engine\u001b[0m\u001b[0;34m(\u001b[0m\u001b[0mself\u001b[0m\u001b[0;34m.\u001b[0m\u001b[0mengine\u001b[0m\u001b[0;34m)\u001b[0m\u001b[0;34m\u001b[0m\u001b[0;34m\u001b[0m\u001b[0m\n\u001b[0m\u001b[1;32m    949\u001b[0m \u001b[0;34m\u001b[0m\u001b[0m\n\u001b[1;32m    950\u001b[0m     \u001b[0;32mdef\u001b[0m \u001b[0mclose\u001b[0m\u001b[0;34m(\u001b[0m\u001b[0mself\u001b[0m\u001b[0;34m)\u001b[0m\u001b[0;34m:\u001b[0m\u001b[0;34m\u001b[0m\u001b[0;34m\u001b[0m\u001b[0m\n",
            "\u001b[0;32m/usr/local/lib/python3.7/dist-packages/pandas/io/parsers.py\u001b[0m in \u001b[0;36m_make_engine\u001b[0;34m(self, engine)\u001b[0m\n\u001b[1;32m   1178\u001b[0m     \u001b[0;32mdef\u001b[0m \u001b[0m_make_engine\u001b[0m\u001b[0;34m(\u001b[0m\u001b[0mself\u001b[0m\u001b[0;34m,\u001b[0m \u001b[0mengine\u001b[0m\u001b[0;34m=\u001b[0m\u001b[0;34m\"c\"\u001b[0m\u001b[0;34m)\u001b[0m\u001b[0;34m:\u001b[0m\u001b[0;34m\u001b[0m\u001b[0;34m\u001b[0m\u001b[0m\n\u001b[1;32m   1179\u001b[0m         \u001b[0;32mif\u001b[0m \u001b[0mengine\u001b[0m \u001b[0;34m==\u001b[0m \u001b[0;34m\"c\"\u001b[0m\u001b[0;34m:\u001b[0m\u001b[0;34m\u001b[0m\u001b[0;34m\u001b[0m\u001b[0m\n\u001b[0;32m-> 1180\u001b[0;31m             \u001b[0mself\u001b[0m\u001b[0;34m.\u001b[0m\u001b[0m_engine\u001b[0m \u001b[0;34m=\u001b[0m \u001b[0mCParserWrapper\u001b[0m\u001b[0;34m(\u001b[0m\u001b[0mself\u001b[0m\u001b[0;34m.\u001b[0m\u001b[0mf\u001b[0m\u001b[0;34m,\u001b[0m \u001b[0;34m**\u001b[0m\u001b[0mself\u001b[0m\u001b[0;34m.\u001b[0m\u001b[0moptions\u001b[0m\u001b[0;34m)\u001b[0m\u001b[0;34m\u001b[0m\u001b[0;34m\u001b[0m\u001b[0m\n\u001b[0m\u001b[1;32m   1181\u001b[0m         \u001b[0;32melse\u001b[0m\u001b[0;34m:\u001b[0m\u001b[0;34m\u001b[0m\u001b[0;34m\u001b[0m\u001b[0m\n\u001b[1;32m   1182\u001b[0m             \u001b[0;32mif\u001b[0m \u001b[0mengine\u001b[0m \u001b[0;34m==\u001b[0m \u001b[0;34m\"python\"\u001b[0m\u001b[0;34m:\u001b[0m\u001b[0;34m\u001b[0m\u001b[0;34m\u001b[0m\u001b[0m\n",
            "\u001b[0;32m/usr/local/lib/python3.7/dist-packages/pandas/io/parsers.py\u001b[0m in \u001b[0;36m__init__\u001b[0;34m(self, src, **kwds)\u001b[0m\n\u001b[1;32m   2008\u001b[0m         \u001b[0mkwds\u001b[0m\u001b[0;34m[\u001b[0m\u001b[0;34m\"usecols\"\u001b[0m\u001b[0;34m]\u001b[0m \u001b[0;34m=\u001b[0m \u001b[0mself\u001b[0m\u001b[0;34m.\u001b[0m\u001b[0musecols\u001b[0m\u001b[0;34m\u001b[0m\u001b[0;34m\u001b[0m\u001b[0m\n\u001b[1;32m   2009\u001b[0m \u001b[0;34m\u001b[0m\u001b[0m\n\u001b[0;32m-> 2010\u001b[0;31m         \u001b[0mself\u001b[0m\u001b[0;34m.\u001b[0m\u001b[0m_reader\u001b[0m \u001b[0;34m=\u001b[0m \u001b[0mparsers\u001b[0m\u001b[0;34m.\u001b[0m\u001b[0mTextReader\u001b[0m\u001b[0;34m(\u001b[0m\u001b[0msrc\u001b[0m\u001b[0;34m,\u001b[0m \u001b[0;34m**\u001b[0m\u001b[0mkwds\u001b[0m\u001b[0;34m)\u001b[0m\u001b[0;34m\u001b[0m\u001b[0;34m\u001b[0m\u001b[0m\n\u001b[0m\u001b[1;32m   2011\u001b[0m         \u001b[0mself\u001b[0m\u001b[0;34m.\u001b[0m\u001b[0munnamed_cols\u001b[0m \u001b[0;34m=\u001b[0m \u001b[0mself\u001b[0m\u001b[0;34m.\u001b[0m\u001b[0m_reader\u001b[0m\u001b[0;34m.\u001b[0m\u001b[0munnamed_cols\u001b[0m\u001b[0;34m\u001b[0m\u001b[0;34m\u001b[0m\u001b[0m\n\u001b[1;32m   2012\u001b[0m \u001b[0;34m\u001b[0m\u001b[0m\n",
            "\u001b[0;32mpandas/_libs/parsers.pyx\u001b[0m in \u001b[0;36mpandas._libs.parsers.TextReader.__cinit__\u001b[0;34m()\u001b[0m\n",
            "\u001b[0;32mpandas/_libs/parsers.pyx\u001b[0m in \u001b[0;36mpandas._libs.parsers.TextReader._setup_parser_source\u001b[0;34m()\u001b[0m\n",
            "\u001b[0;31mFileNotFoundError\u001b[0m: [Errno 2] No such file or directory: 'drive/MyDrive/model data/predata3.csv'"
          ]
        }
      ]
    },
    {
      "cell_type": "code",
      "metadata": {
        "colab": {
          "base_uri": "https://localhost:8080/",
          "height": 417
        },
        "id": "7cQUnd0-psiy",
        "outputId": "a28df360-fccf-441c-fdf6-96dc6cdd0454"
      },
      "source": [
        "output_df[\"due_date\"] =  pd.to_datetime(output_df[\"date\"]) - pd.to_datetime('1-Jul-21')\n",
        "#output_df[\"due_date\"] = output_df[\"due_date\"].days#\n",
        "output_df['due_date'] = output_df['due_date'].dt.days.astype('int16')\n",
        "output_df[\"product_name\"] = output_df[\"product_name\"].astype('str')\n",
        "output_df[\"product\"] = output_df[\"product_name\"].apply(lambda x: x[0]+ x[-1])\n",
        "test_data = output_df[['product', 'due_date','lot_size']]\n",
        "test_data = test_data.append(pd.DataFrame({'product': ['P3', 'P3', 'P4','P4'], 'lot_size':[2,2,1,3], 'due_date': [184,335,184,335]}))\n",
        "test_data"
      ],
      "id": "7cQUnd0-psiy",
      "execution_count": null,
      "outputs": [
        {
          "output_type": "execute_result",
          "data": {
            "text/html": [
              "<div>\n",
              "<style scoped>\n",
              "    .dataframe tbody tr th:only-of-type {\n",
              "        vertical-align: middle;\n",
              "    }\n",
              "\n",
              "    .dataframe tbody tr th {\n",
              "        vertical-align: top;\n",
              "    }\n",
              "\n",
              "    .dataframe thead th {\n",
              "        text-align: right;\n",
              "    }\n",
              "</style>\n",
              "<table border=\"1\" class=\"dataframe\">\n",
              "  <thead>\n",
              "    <tr style=\"text-align: right;\">\n",
              "      <th></th>\n",
              "      <th>product</th>\n",
              "      <th>due_date</th>\n",
              "      <th>lot_size</th>\n",
              "    </tr>\n",
              "  </thead>\n",
              "  <tbody>\n",
              "    <tr>\n",
              "      <th>0</th>\n",
              "      <td>P1</td>\n",
              "      <td>0</td>\n",
              "      <td>0.0</td>\n",
              "    </tr>\n",
              "    <tr>\n",
              "      <th>1</th>\n",
              "      <td>P1</td>\n",
              "      <td>31</td>\n",
              "      <td>0.0</td>\n",
              "    </tr>\n",
              "    <tr>\n",
              "      <th>2</th>\n",
              "      <td>P1</td>\n",
              "      <td>62</td>\n",
              "      <td>0.0</td>\n",
              "    </tr>\n",
              "    <tr>\n",
              "      <th>3</th>\n",
              "      <td>P1</td>\n",
              "      <td>92</td>\n",
              "      <td>0.0</td>\n",
              "    </tr>\n",
              "    <tr>\n",
              "      <th>4</th>\n",
              "      <td>P1</td>\n",
              "      <td>123</td>\n",
              "      <td>0.0</td>\n",
              "    </tr>\n",
              "    <tr>\n",
              "      <th>...</th>\n",
              "      <td>...</td>\n",
              "      <td>...</td>\n",
              "      <td>...</td>\n",
              "    </tr>\n",
              "    <tr>\n",
              "      <th>23</th>\n",
              "      <td>P6</td>\n",
              "      <td>700</td>\n",
              "      <td>0.0</td>\n",
              "    </tr>\n",
              "    <tr>\n",
              "      <th>0</th>\n",
              "      <td>P3</td>\n",
              "      <td>184</td>\n",
              "      <td>2.0</td>\n",
              "    </tr>\n",
              "    <tr>\n",
              "      <th>1</th>\n",
              "      <td>P3</td>\n",
              "      <td>335</td>\n",
              "      <td>2.0</td>\n",
              "    </tr>\n",
              "    <tr>\n",
              "      <th>2</th>\n",
              "      <td>P4</td>\n",
              "      <td>184</td>\n",
              "      <td>1.0</td>\n",
              "    </tr>\n",
              "    <tr>\n",
              "      <th>3</th>\n",
              "      <td>P4</td>\n",
              "      <td>335</td>\n",
              "      <td>3.0</td>\n",
              "    </tr>\n",
              "  </tbody>\n",
              "</table>\n",
              "<p>100 rows × 3 columns</p>\n",
              "</div>"
            ],
            "text/plain": [
              "   product  due_date  lot_size\n",
              "0       P1         0       0.0\n",
              "1       P1        31       0.0\n",
              "2       P1        62       0.0\n",
              "3       P1        92       0.0\n",
              "4       P1       123       0.0\n",
              "..     ...       ...       ...\n",
              "23      P6       700       0.0\n",
              "0       P3       184       2.0\n",
              "1       P3       335       2.0\n",
              "2       P4       184       1.0\n",
              "3       P4       335       3.0\n",
              "\n",
              "[100 rows x 3 columns]"
            ]
          },
          "metadata": {},
          "execution_count": 10
        }
      ]
    },
    {
      "cell_type": "code",
      "metadata": {
        "id": "qHxWIM-Gvykn",
        "colab": {
          "base_uri": "https://localhost:8080/"
        },
        "outputId": "515d7823-e603-4323-9d1a-251abd04f54b"
      },
      "source": [
        "input_data = pd.DataFrame(columns=['product','due_date'])\n",
        "for row_id,row in test_data.iterrows():\n",
        "  if row['lot_size'] == 0:\n",
        "    continue\n",
        "  for x in range(int(row[\"lot_size\"])):\n",
        "    #print(row['product'], row['due_date'])\n",
        "    input_data = input_data.append({'product': row[\"product\"], 'due_date':row['due_date'] }, ignore_index=True)\n",
        "print(len(input_data))\n",
        "input_data.to_csv('drive/MyDrive/model data/input_data.csv')\n",
        "print(input_data)  "
      ],
      "id": "qHxWIM-Gvykn",
      "execution_count": null,
      "outputs": [
        {
          "output_type": "stream",
          "name": "stdout",
          "text": [
            "117\n",
            "    product due_date\n",
            "0        P1      215\n",
            "1        P1      243\n",
            "2        P1      274\n",
            "3        P1      274\n",
            "4        P1      304\n",
            "..      ...      ...\n",
            "112      P3      335\n",
            "113      P4      184\n",
            "114      P4      335\n",
            "115      P4      335\n",
            "116      P4      335\n",
            "\n",
            "[117 rows x 2 columns]\n"
          ]
        }
      ]
    },
    {
      "cell_type": "code",
      "metadata": {
        "id": "ZPNRaYiAf9Bu"
      },
      "source": [
        "output = output_df.copy(deep=True).set_index(pd.MultiIndex.from_frame(output_df[[\"date\",\"product_name\"]]))\n",
        "demand = output.demands"
      ],
      "id": "ZPNRaYiAf9Bu",
      "execution_count": null,
      "outputs": []
    },
    {
      "cell_type": "code",
      "metadata": {
        "colab": {
          "base_uri": "https://localhost:8080/"
        },
        "id": "vtY94V_b4tqB",
        "outputId": "652b0998-6059-4938-a884-c544d1f65b23"
      },
      "source": [
        "demand.loc['1-Jul-21','Product 1']\n",
        "# demand"
      ],
      "id": "vtY94V_b4tqB",
      "execution_count": null,
      "outputs": [
        {
          "output_type": "execute_result",
          "data": {
            "text/plain": [
              "35326"
            ]
          },
          "metadata": {},
          "execution_count": 24
        }
      ]
    },
    {
      "cell_type": "code",
      "metadata": {
        "id": "b3BKZZeHeuM5"
      },
      "source": [
        "import pyomo.environ as pe\n",
        "import pyomo.opt as po\n",
        "\n",
        "solver= po.SolverFactory('glpk')\n",
        "model = pe.ConcreteModel()\n",
        "\n",
        "# can use within for sets\n",
        "model.months = pe.Set(initialize=out.date.to_list())\n",
        "model.prods = pe.Set(initialize=prod_name)\n",
        "\n",
        "def demand_init(m,i,j):\n",
        "  return demand.loc[i,j]\n",
        "\n",
        "model.sell = pe.Param(model.months,model.prods,initialize=demand_init)\n",
        "\n",
        "def get_init_bal(m,i):\n",
        "  return get_prod_balance(i)\n",
        "\n",
        "model.init_bal = pe.Param(model.prods,initialize= get_init_bal)\n",
        "\n",
        "\n",
        "# var has domain, bounds and within\n",
        "model.make = pe.Var(model.months,model.prods,domain=pe.NonNegativeReals)\n",
        "model.balance = pe.Var(model.months,model.prods,domain=pe.NonNegativeReals)\n",
        "\n",
        "# obj has rule, sense and passes model\n",
        "# constraint has model and rule\n",
        "# balance > demand constraint\n",
        "# model.edge = Constraint(rule= make[0,product] + )\n",
        "# def mfc_constraint(m,i,j):\n",
        "#   return (m.balance[i,j]<)\n",
        "# model.mfc = Constraint(rule=mfc_constraint)\n",
        "# model.cap = Constraint()\n",
        "# model.Obj = Objective(rule,sense=pe.minimize)"
      ],
      "id": "b3BKZZeHeuM5",
      "execution_count": null,
      "outputs": []
    },
    {
      "cell_type": "code",
      "metadata": {
        "colab": {
          "base_uri": "https://localhost:8080/"
        },
        "id": "9Sh8xwTIj2Vm",
        "outputId": "5cf88b74-8c47-4d3a-fa1e-181781892226"
      },
      "source": [
        "model.sell.pprint()"
      ],
      "id": "9Sh8xwTIj2Vm",
      "execution_count": null,
      "outputs": [
        {
          "output_type": "stream",
          "name": "stdout",
          "text": [
            "sell : Size=48, Index=sell_index, Domain=Any, Default=None, Mutable=False\n",
            "    Key                       : Value\n",
            "    ('1-Apr-22', 'Product 1') : 14261\n",
            "    ('1-Apr-22', 'Product 2') : 49501\n",
            "    ('1-Apr-23', 'Product 1') : 69297\n",
            "    ('1-Apr-23', 'Product 2') : 39207\n",
            "    ('1-Aug-21', 'Product 1') : 12656\n",
            "    ('1-Aug-21', 'Product 2') : 39598\n",
            "    ('1-Aug-22', 'Product 1') : 66067\n",
            "    ('1-Aug-22', 'Product 2') : 33682\n",
            "    ('1-Dec-21', 'Product 1') : 19596\n",
            "    ('1-Dec-21', 'Product 2') : 13805\n",
            "    ('1-Dec-22', 'Product 1') : 62469\n",
            "    ('1-Dec-22', 'Product 2') : 29267\n",
            "    ('1-Feb-22', 'Product 1') : 12279\n",
            "    ('1-Feb-22', 'Product 2') : 47682\n",
            "    ('1-Feb-23', 'Product 1') : 47986\n",
            "    ('1-Feb-23', 'Product 2') : 28595\n",
            "    ('1-Jan-22', 'Product 1') : 52124\n",
            "    ('1-Jan-22', 'Product 2') : 44101\n",
            "    ('1-Jan-23', 'Product 1') : 61021\n",
            "    ('1-Jan-23', 'Product 2') : 43965\n",
            "    ('1-Jul-21', 'Product 1') : 35326\n",
            "    ('1-Jul-21', 'Product 2') : 14576\n",
            "    ('1-Jul-22', 'Product 1') : 27921\n",
            "    ('1-Jul-22', 'Product 2') : 35016\n",
            "    ('1-Jun-22', 'Product 1') : 54839\n",
            "    ('1-Jun-22', 'Product 2') : 40613\n",
            "    ('1-Jun-23', 'Product 1') : 25876\n",
            "    ('1-Jun-23', 'Product 2') : 15572\n",
            "    ('1-Mar-22', 'Product 1') : 35972\n",
            "    ('1-Mar-22', 'Product 2') : 49741\n",
            "    ('1-Mar-23', 'Product 1') : 28027\n",
            "    ('1-Mar-23', 'Product 2') : 31010\n",
            "    ('1-May-22', 'Product 1') : 20920\n",
            "    ('1-May-22', 'Product 2') : 39952\n",
            "    ('1-May-23', 'Product 1') : 70400\n",
            "    ('1-May-23', 'Product 2') : 52129\n",
            "    ('1-Nov-21', 'Product 1') : 47557\n",
            "    ('1-Nov-21', 'Product 2') : 37880\n",
            "    ('1-Nov-22', 'Product 1') : 14995\n",
            "    ('1-Nov-22', 'Product 2') : 43363\n",
            "    ('1-Oct-21', 'Product 1') : 18741\n",
            "    ('1-Oct-21', 'Product 2') : 48646\n",
            "    ('1-Oct-22', 'Product 1') : 64235\n",
            "    ('1-Oct-22', 'Product 2') : 33927\n",
            "    ('1-Sep-21', 'Product 1') : 23499\n",
            "    ('1-Sep-21', 'Product 2') : 37321\n",
            "    ('1-Sep-22', 'Product 1') : 62423\n",
            "    ('1-Sep-22', 'Product 2') : 46121\n"
          ]
        }
      ]
    },
    {
      "cell_type": "code",
      "metadata": {
        "colab": {
          "base_uri": "https://localhost:8080/"
        },
        "id": "JshTVDQTHsMj",
        "outputId": "964d02e2-224b-425b-8da5-bda26e992fbc"
      },
      "source": [
        "model.make.pprint()"
      ],
      "id": "JshTVDQTHsMj",
      "execution_count": null,
      "outputs": [
        {
          "output_type": "stream",
          "name": "stdout",
          "text": [
            "make : Size=48, Index=make_index\n",
            "    Key                       : Lower : Value : Upper : Fixed : Stale : Domain\n",
            "    ('1-Apr-22', 'Product 1') :     0 :  None :  None : False :  True : NonNegativeReals\n",
            "    ('1-Apr-22', 'Product 2') :     0 :  None :  None : False :  True : NonNegativeReals\n",
            "    ('1-Apr-23', 'Product 1') :     0 :  None :  None : False :  True : NonNegativeReals\n",
            "    ('1-Apr-23', 'Product 2') :     0 :  None :  None : False :  True : NonNegativeReals\n",
            "    ('1-Aug-21', 'Product 1') :     0 :  None :  None : False :  True : NonNegativeReals\n",
            "    ('1-Aug-21', 'Product 2') :     0 :  None :  None : False :  True : NonNegativeReals\n",
            "    ('1-Aug-22', 'Product 1') :     0 :  None :  None : False :  True : NonNegativeReals\n",
            "    ('1-Aug-22', 'Product 2') :     0 :  None :  None : False :  True : NonNegativeReals\n",
            "    ('1-Dec-21', 'Product 1') :     0 :  None :  None : False :  True : NonNegativeReals\n",
            "    ('1-Dec-21', 'Product 2') :     0 :  None :  None : False :  True : NonNegativeReals\n",
            "    ('1-Dec-22', 'Product 1') :     0 :  None :  None : False :  True : NonNegativeReals\n",
            "    ('1-Dec-22', 'Product 2') :     0 :  None :  None : False :  True : NonNegativeReals\n",
            "    ('1-Feb-22', 'Product 1') :     0 :  None :  None : False :  True : NonNegativeReals\n",
            "    ('1-Feb-22', 'Product 2') :     0 :  None :  None : False :  True : NonNegativeReals\n",
            "    ('1-Feb-23', 'Product 1') :     0 :  None :  None : False :  True : NonNegativeReals\n",
            "    ('1-Feb-23', 'Product 2') :     0 :  None :  None : False :  True : NonNegativeReals\n",
            "    ('1-Jan-22', 'Product 1') :     0 :  None :  None : False :  True : NonNegativeReals\n",
            "    ('1-Jan-22', 'Product 2') :     0 :  None :  None : False :  True : NonNegativeReals\n",
            "    ('1-Jan-23', 'Product 1') :     0 :  None :  None : False :  True : NonNegativeReals\n",
            "    ('1-Jan-23', 'Product 2') :     0 :  None :  None : False :  True : NonNegativeReals\n",
            "    ('1-Jul-21', 'Product 1') :     0 :  None :  None : False :  True : NonNegativeReals\n",
            "    ('1-Jul-21', 'Product 2') :     0 :  None :  None : False :  True : NonNegativeReals\n",
            "    ('1-Jul-22', 'Product 1') :     0 :  None :  None : False :  True : NonNegativeReals\n",
            "    ('1-Jul-22', 'Product 2') :     0 :  None :  None : False :  True : NonNegativeReals\n",
            "    ('1-Jun-22', 'Product 1') :     0 :  None :  None : False :  True : NonNegativeReals\n",
            "    ('1-Jun-22', 'Product 2') :     0 :  None :  None : False :  True : NonNegativeReals\n",
            "    ('1-Jun-23', 'Product 1') :     0 :  None :  None : False :  True : NonNegativeReals\n",
            "    ('1-Jun-23', 'Product 2') :     0 :  None :  None : False :  True : NonNegativeReals\n",
            "    ('1-Mar-22', 'Product 1') :     0 :  None :  None : False :  True : NonNegativeReals\n",
            "    ('1-Mar-22', 'Product 2') :     0 :  None :  None : False :  True : NonNegativeReals\n",
            "    ('1-Mar-23', 'Product 1') :     0 :  None :  None : False :  True : NonNegativeReals\n",
            "    ('1-Mar-23', 'Product 2') :     0 :  None :  None : False :  True : NonNegativeReals\n",
            "    ('1-May-22', 'Product 1') :     0 :  None :  None : False :  True : NonNegativeReals\n",
            "    ('1-May-22', 'Product 2') :     0 :  None :  None : False :  True : NonNegativeReals\n",
            "    ('1-May-23', 'Product 1') :     0 :  None :  None : False :  True : NonNegativeReals\n",
            "    ('1-May-23', 'Product 2') :     0 :  None :  None : False :  True : NonNegativeReals\n",
            "    ('1-Nov-21', 'Product 1') :     0 :  None :  None : False :  True : NonNegativeReals\n",
            "    ('1-Nov-21', 'Product 2') :     0 :  None :  None : False :  True : NonNegativeReals\n",
            "    ('1-Nov-22', 'Product 1') :     0 :  None :  None : False :  True : NonNegativeReals\n",
            "    ('1-Nov-22', 'Product 2') :     0 :  None :  None : False :  True : NonNegativeReals\n",
            "    ('1-Oct-21', 'Product 1') :     0 :  None :  None : False :  True : NonNegativeReals\n",
            "    ('1-Oct-21', 'Product 2') :     0 :  None :  None : False :  True : NonNegativeReals\n",
            "    ('1-Oct-22', 'Product 1') :     0 :  None :  None : False :  True : NonNegativeReals\n",
            "    ('1-Oct-22', 'Product 2') :     0 :  None :  None : False :  True : NonNegativeReals\n",
            "    ('1-Sep-21', 'Product 1') :     0 :  None :  None : False :  True : NonNegativeReals\n",
            "    ('1-Sep-21', 'Product 2') :     0 :  None :  None : False :  True : NonNegativeReals\n",
            "    ('1-Sep-22', 'Product 1') :     0 :  None :  None : False :  True : NonNegativeReals\n",
            "    ('1-Sep-22', 'Product 2') :     0 :  None :  None : False :  True : NonNegativeReals\n"
          ]
        }
      ]
    },
    {
      "cell_type": "code",
      "metadata": {
        "colab": {
          "base_uri": "https://localhost:8080/"
        },
        "id": "MyxOeJiREVGA",
        "outputId": "043c754b-efc8-4ef7-9923-c07c763351f9"
      },
      "source": [
        "def get_prod_balance(prod):\n",
        "  '''\n",
        "  '''\n",
        "  balance = {'Product 1': 18900, 'Product 2': 30000 }\n",
        "  return balance[prod]\n",
        "\n",
        "get_prod_balance('Product 1')"
      ],
      "id": "MyxOeJiREVGA",
      "execution_count": null,
      "outputs": [
        {
          "output_type": "execute_result",
          "data": {
            "text/plain": [
              "18900"
            ]
          },
          "metadata": {},
          "execution_count": 17
        }
      ]
    },
    {
      "cell_type": "code",
      "metadata": {
        "colab": {
          "base_uri": "https://localhost:8080/"
        },
        "id": "dBvMGGTfAR_q",
        "outputId": "8ffc8faa-7b24-4eda-d9a0-46869d2bd269"
      },
      "source": [
        "# data = pd.read_csv(\"drive/MyDrive/model data/pre_data.csv\")\n",
        "# colnames = ['product_name','date','demands','transfer_supply_quantity','expired_quantity']\n",
        "\n",
        "# prod_name = data.product_name.unique()\n",
        "print(prod_name)"
      ],
      "id": "dBvMGGTfAR_q",
      "execution_count": null,
      "outputs": [
        {
          "output_type": "stream",
          "name": "stdout",
          "text": [
            "['Product 1' 'Product 2']\n"
          ]
        }
      ]
    },
    {
      "cell_type": "code",
      "metadata": {
        "id": "b31f3364-c5c3-4d81-a842-e837026d73da",
        "colab": {
          "base_uri": "https://localhost:8080/",
          "height": 49
        },
        "outputId": "3ffaf7f2-50f6-4adc-f3ba-58cf93d68a07"
      },
      "source": [
        "output_df"
      ],
      "id": "b31f3364-c5c3-4d81-a842-e837026d73da",
      "execution_count": null,
      "outputs": [
        {
          "output_type": "execute_result",
          "data": {
            "text/html": [
              "<div>\n",
              "<style scoped>\n",
              "    .dataframe tbody tr th:only-of-type {\n",
              "        vertical-align: middle;\n",
              "    }\n",
              "\n",
              "    .dataframe tbody tr th {\n",
              "        vertical-align: top;\n",
              "    }\n",
              "\n",
              "    .dataframe thead th {\n",
              "        text-align: right;\n",
              "    }\n",
              "</style>\n",
              "<table border=\"1\" class=\"dataframe\">\n",
              "  <thead>\n",
              "    <tr style=\"text-align: right;\">\n",
              "      <th></th>\n",
              "      <th>product_name</th>\n",
              "      <th>date</th>\n",
              "      <th>demands</th>\n",
              "      <th>transfer_supply_quantity</th>\n",
              "      <th>expired_quantity</th>\n",
              "    </tr>\n",
              "  </thead>\n",
              "  <tbody>\n",
              "  </tbody>\n",
              "</table>\n",
              "</div>"
            ],
            "text/plain": [
              "Empty DataFrame\n",
              "Columns: [product_name, date, demands, transfer_supply_quantity, expired_quantity]\n",
              "Index: []"
            ]
          },
          "metadata": {},
          "execution_count": 20
        }
      ]
    },
    {
      "cell_type": "markdown",
      "metadata": {
        "id": "7014d1d6-ea3e-47d3-b2dd-92266696ebcd"
      },
      "source": [
        "### *Charts*"
      ],
      "id": "7014d1d6-ea3e-47d3-b2dd-92266696ebcd"
    },
    {
      "cell_type": "code",
      "metadata": {
        "tags": [],
        "id": "dbfdf36d-78cd-4b8f-a103-6b7d77541458"
      },
      "source": [
        "import matplotlib.pyplot as plt\n",
        "import seaborn as sns\n",
        "%matplotlib inline"
      ],
      "id": "dbfdf36d-78cd-4b8f-a103-6b7d77541458",
      "execution_count": null,
      "outputs": []
    },
    {
      "cell_type": "code",
      "metadata": {
        "id": "3a05bc09-0acb-4f42-8550-f667ee200b16",
        "colab": {
          "base_uri": "https://localhost:8080/",
          "height": 421
        },
        "outputId": "b33786a9-4e16-4307-962f-60bac0091a09"
      },
      "source": [
        "p_data = out[['date','MFC']].set_index('date')\n",
        "\n",
        "plt.figure(figsize=(10,6))\n",
        "plt.title(\"MFC Curve\")\n",
        "plt.xlabel(\"Date\")\n",
        "plt.ylabel(\"MFC\")\n",
        "sns.lineplot(data=p_data)"
      ],
      "id": "3a05bc09-0acb-4f42-8550-f667ee200b16",
      "execution_count": null,
      "outputs": [
        {
          "output_type": "execute_result",
          "data": {
            "text/plain": [
              "<matplotlib.axes._subplots.AxesSubplot at 0x7f6cc53e9ad0>"
            ]
          },
          "metadata": {},
          "execution_count": 10
        },
        {
          "output_type": "display_data",
          "data": {
            "image/png": "[encoded data removed]",
            "text/plain": [
              "<Figure size 720x432 with 1 Axes>"
            ]
          },
          "metadata": {
            "needs_background": "light"
          }
        }
      ]
    },
    {
      "cell_type": "code",
      "metadata": {
        "id": "90b2a371-4547-4293-9822-3b1a15b719a1",
        "colab": {
          "base_uri": "https://localhost:8080/",
          "height": 421
        },
        "outputId": "73285deb-de9c-448c-cf67-31dfdc47a75e"
      },
      "source": [
        "s_data = out[['date','supply']].set_index('date')\n",
        "\n",
        "plt.figure(figsize=(10,6))\n",
        "plt.title(\"Supply Curve\")\n",
        "plt.xlabel(\"Date\")\n",
        "plt.ylabel(\"Supply(g)\")\n",
        "sns.lineplot(data=s_data)"
      ],
      "id": "90b2a371-4547-4293-9822-3b1a15b719a1",
      "execution_count": null,
      "outputs": [
        {
          "output_type": "execute_result",
          "data": {
            "text/plain": [
              "<matplotlib.axes._subplots.AxesSubplot at 0x7f6cc4c34690>"
            ]
          },
          "metadata": {},
          "execution_count": 11
        },
        {
          "output_type": "display_data",
          "data": {
            "image/png": "[encoded data removed]",
            "text/plain": [
              "<Figure size 720x432 with 1 Axes>"
            ]
          },
          "metadata": {
            "needs_background": "light"
          }
        }
      ]
    },
    {
      "cell_type": "markdown",
      "metadata": {
        "id": "HPuDv_E5QDKv"
      },
      "source": [
        "### *Model Formulation Tests*"
      ],
      "id": "HPuDv_E5QDKv"
    },
    {
      "cell_type": "code",
      "metadata": {
        "id": "Rl3ARl-g9bCo"
      },
      "source": [
        "import pyomo.environ as pe\n",
        "import pyomo.opt as po\n",
        "\n",
        "solver = po.SolverFactory('glpk')\n",
        "model = pe.AbstractModel()"
      ],
      "id": "Rl3ARl-g9bCo",
      "execution_count": null,
      "outputs": []
    },
    {
      "cell_type": "code",
      "metadata": {
        "colab": {
          "base_uri": "https://localhost:8080/",
          "height": 203
        },
        "id": "YMuFDYA6-NTi",
        "outputId": "60fc0f4c-f065-4be7-c25b-c5edbb26b80b"
      },
      "source": [
        "from datetime import datetime\n",
        "\n",
        "supply_lot_col = ['product_name','date','lot_size']\n",
        "lot_df = out[supply_lot_col]\n",
        "t_start = datetime.strptime(out.date[0],\"%d-%b-%y\")\n",
        "lot_df.head()"
      ],
      "id": "YMuFDYA6-NTi",
      "execution_count": null,
      "outputs": [
        {
          "output_type": "execute_result",
          "data": {
            "text/html": [
              "<div>\n",
              "<style scoped>\n",
              "    .dataframe tbody tr th:only-of-type {\n",
              "        vertical-align: middle;\n",
              "    }\n",
              "\n",
              "    .dataframe tbody tr th {\n",
              "        vertical-align: top;\n",
              "    }\n",
              "\n",
              "    .dataframe thead th {\n",
              "        text-align: right;\n",
              "    }\n",
              "</style>\n",
              "<table border=\"1\" class=\"dataframe\">\n",
              "  <thead>\n",
              "    <tr style=\"text-align: right;\">\n",
              "      <th></th>\n",
              "      <th>product_name</th>\n",
              "      <th>date</th>\n",
              "      <th>lot_size</th>\n",
              "    </tr>\n",
              "  </thead>\n",
              "  <tbody>\n",
              "    <tr>\n",
              "      <th>0</th>\n",
              "      <td>Product 2</td>\n",
              "      <td>1-Jul-21</td>\n",
              "      <td>0</td>\n",
              "    </tr>\n",
              "    <tr>\n",
              "      <th>1</th>\n",
              "      <td>Product 2</td>\n",
              "      <td>1-Aug-21</td>\n",
              "      <td>0</td>\n",
              "    </tr>\n",
              "    <tr>\n",
              "      <th>2</th>\n",
              "      <td>Product 2</td>\n",
              "      <td>1-Sep-21</td>\n",
              "      <td>0</td>\n",
              "    </tr>\n",
              "    <tr>\n",
              "      <th>3</th>\n",
              "      <td>Product 2</td>\n",
              "      <td>1-Oct-21</td>\n",
              "      <td>0</td>\n",
              "    </tr>\n",
              "    <tr>\n",
              "      <th>4</th>\n",
              "      <td>Product 2</td>\n",
              "      <td>1-Nov-21</td>\n",
              "      <td>0</td>\n",
              "    </tr>\n",
              "  </tbody>\n",
              "</table>\n",
              "</div>"
            ],
            "text/plain": [
              "  product_name      date  lot_size\n",
              "0    Product 2  1-Jul-21         0\n",
              "1    Product 2  1-Aug-21         0\n",
              "2    Product 2  1-Sep-21         0\n",
              "3    Product 2  1-Oct-21         0\n",
              "4    Product 2  1-Nov-21         0"
            ]
          },
          "metadata": {},
          "execution_count": 27
        }
      ]
    },
    {
      "cell_type": "code",
      "metadata": {
        "colab": {
          "base_uri": "https://localhost:8080/"
        },
        "id": "SNuMgl8ekuX6",
        "outputId": "987953ef-b3e5-49e2-bc1d-5edab5e8f9e3"
      },
      "source": [
        "lot_df.date.apply(lambda x: datetime.strptime(x,\"%d-%b-%y\") - t_start)"
      ],
      "id": "SNuMgl8ekuX6",
      "execution_count": null,
      "outputs": [
        {
          "output_type": "execute_result",
          "data": {
            "text/plain": [
              "0      0 days\n",
              "1     31 days\n",
              "2     62 days\n",
              "3     92 days\n",
              "4    123 days\n",
              "5    153 days\n",
              "6    184 days\n",
              "7    215 days\n",
              "8    243 days\n",
              "9    274 days\n",
              "10   304 days\n",
              "11   335 days\n",
              "12   365 days\n",
              "13   396 days\n",
              "14   427 days\n",
              "15   457 days\n",
              "16   488 days\n",
              "17   518 days\n",
              "18   549 days\n",
              "19   580 days\n",
              "20   608 days\n",
              "21   639 days\n",
              "22   669 days\n",
              "23   700 days\n",
              "Name: date, dtype: timedelta64[ns]"
            ]
          },
          "metadata": {},
          "execution_count": 28
        }
      ]
    },
    {
      "cell_type": "code",
      "metadata": {
        "colab": {
          "base_uri": "https://localhost:8080/"
        },
        "id": "H1a-h03HNrpd",
        "outputId": "af7c2978-3ab6-4407-d7fb-fa34ee1d2630"
      },
      "source": [
        "lot_df2 = lot_df[lot_df.lot_size>0]\n",
        "print(lot_df2.size)\n",
        "print(lot_df2.lot_size.value_counts())\n",
        "print(lot_df2.lot_size.sum())"
      ],
      "id": "H1a-h03HNrpd",
      "execution_count": null,
      "outputs": [
        {
          "output_type": "stream",
          "name": "stdout",
          "text": [
            "42\n",
            "8     3\n",
            "7     3\n",
            "9     2\n",
            "4     2\n",
            "13    1\n",
            "6     1\n",
            "5     1\n",
            "1     1\n",
            "Name: lot_size, dtype: int64\n",
            "96\n"
          ]
        }
      ]
    },
    {
      "cell_type": "code",
      "metadata": {
        "colab": {
          "base_uri": "https://localhost:8080/",
          "height": 480
        },
        "id": "FjkNcc66NjT-",
        "outputId": "d96a60af-ede1-4806-b5c5-8b8388644310"
      },
      "source": [
        "lot_df2"
      ],
      "id": "FjkNcc66NjT-",
      "execution_count": null,
      "outputs": [
        {
          "output_type": "execute_result",
          "data": {
            "text/html": [
              "<div>\n",
              "<style scoped>\n",
              "    .dataframe tbody tr th:only-of-type {\n",
              "        vertical-align: middle;\n",
              "    }\n",
              "\n",
              "    .dataframe tbody tr th {\n",
              "        vertical-align: top;\n",
              "    }\n",
              "\n",
              "    .dataframe thead th {\n",
              "        text-align: right;\n",
              "    }\n",
              "</style>\n",
              "<table border=\"1\" class=\"dataframe\">\n",
              "  <thead>\n",
              "    <tr style=\"text-align: right;\">\n",
              "      <th></th>\n",
              "      <th>product_name</th>\n",
              "      <th>date</th>\n",
              "      <th>lot_size</th>\n",
              "    </tr>\n",
              "  </thead>\n",
              "  <tbody>\n",
              "    <tr>\n",
              "      <th>3</th>\n",
              "      <td>Product 1</td>\n",
              "      <td>1-Oct-21</td>\n",
              "      <td>1</td>\n",
              "    </tr>\n",
              "    <tr>\n",
              "      <th>4</th>\n",
              "      <td>Product 1</td>\n",
              "      <td>1-Nov-21</td>\n",
              "      <td>4</td>\n",
              "    </tr>\n",
              "    <tr>\n",
              "      <th>6</th>\n",
              "      <td>Product 1</td>\n",
              "      <td>1-Jan-22</td>\n",
              "      <td>6</td>\n",
              "    </tr>\n",
              "    <tr>\n",
              "      <th>8</th>\n",
              "      <td>Product 1</td>\n",
              "      <td>1-Mar-22</td>\n",
              "      <td>7</td>\n",
              "    </tr>\n",
              "    <tr>\n",
              "      <th>10</th>\n",
              "      <td>Product 1</td>\n",
              "      <td>1-May-22</td>\n",
              "      <td>9</td>\n",
              "    </tr>\n",
              "    <tr>\n",
              "      <th>11</th>\n",
              "      <td>Product 1</td>\n",
              "      <td>1-Jun-22</td>\n",
              "      <td>13</td>\n",
              "    </tr>\n",
              "    <tr>\n",
              "      <th>12</th>\n",
              "      <td>Product 1</td>\n",
              "      <td>1-Jul-22</td>\n",
              "      <td>4</td>\n",
              "    </tr>\n",
              "    <tr>\n",
              "      <th>13</th>\n",
              "      <td>Product 1</td>\n",
              "      <td>1-Aug-22</td>\n",
              "      <td>7</td>\n",
              "    </tr>\n",
              "    <tr>\n",
              "      <th>14</th>\n",
              "      <td>Product 1</td>\n",
              "      <td>1-Sep-22</td>\n",
              "      <td>7</td>\n",
              "    </tr>\n",
              "    <tr>\n",
              "      <th>15</th>\n",
              "      <td>Product 1</td>\n",
              "      <td>1-Oct-22</td>\n",
              "      <td>8</td>\n",
              "    </tr>\n",
              "    <tr>\n",
              "      <th>17</th>\n",
              "      <td>Product 1</td>\n",
              "      <td>1-Dec-22</td>\n",
              "      <td>8</td>\n",
              "    </tr>\n",
              "    <tr>\n",
              "      <th>18</th>\n",
              "      <td>Product 1</td>\n",
              "      <td>1-Jan-23</td>\n",
              "      <td>9</td>\n",
              "    </tr>\n",
              "    <tr>\n",
              "      <th>19</th>\n",
              "      <td>Product 1</td>\n",
              "      <td>1-Feb-23</td>\n",
              "      <td>8</td>\n",
              "    </tr>\n",
              "    <tr>\n",
              "      <th>21</th>\n",
              "      <td>Product 1</td>\n",
              "      <td>1-Apr-23</td>\n",
              "      <td>5</td>\n",
              "    </tr>\n",
              "  </tbody>\n",
              "</table>\n",
              "</div>"
            ],
            "text/plain": [
              "   product_name      date  lot_size\n",
              "3     Product 1  1-Oct-21         1\n",
              "4     Product 1  1-Nov-21         4\n",
              "6     Product 1  1-Jan-22         6\n",
              "8     Product 1  1-Mar-22         7\n",
              "10    Product 1  1-May-22         9\n",
              "11    Product 1  1-Jun-22        13\n",
              "12    Product 1  1-Jul-22         4\n",
              "13    Product 1  1-Aug-22         7\n",
              "14    Product 1  1-Sep-22         7\n",
              "15    Product 1  1-Oct-22         8\n",
              "17    Product 1  1-Dec-22         8\n",
              "18    Product 1  1-Jan-23         9\n",
              "19    Product 1  1-Feb-23         8\n",
              "21    Product 1  1-Apr-23         5"
            ]
          },
          "metadata": {},
          "execution_count": 83
        }
      ]
    },
    {
      "cell_type": "code",
      "metadata": {
        "id": "ZUF0Mnv-Qw-A"
      },
      "source": [
        "n = lot_df2.lot_size.sum()"
      ],
      "id": "ZUF0Mnv-Qw-A",
      "execution_count": null,
      "outputs": []
    },
    {
      "cell_type": "code",
      "metadata": {
        "id": "Wd3bPuANXrGu"
      },
      "source": [
        "# model.m = pyo.Param(within=pyo.NonNegativeIntegers)\n",
        "model.n = pe.Param(within=pe.NonNegativeIntegers)\n",
        "\n",
        "# model.I = pe.RangeSet(1, model.m)\n",
        "model.I = pe.RangeSet(1, model.n)\n"
      ],
      "id": "Wd3bPuANXrGu",
      "execution_count": null,
      "outputs": []
    },
    {
      "cell_type": "code",
      "metadata": {
        "id": "WB0Mcyag50-C"
      },
      "source": [
        "# Reference Code\n",
        "\n",
        "# model.a = pyo.Param(model.I, model.J)\n",
        "# model.b = pyo.Param(model.I)\n",
        "# model.c = pyo.Param(model.J)\n",
        "\n",
        "# # the next line declares a variable indexed by the set J\n",
        "# model.x = pyo.Var(model.J, domain=pyo.NonNegativeReals)\n",
        "\n",
        "# def obj_expression(m):\n",
        "#     return pyo.summation(m.c, m.x)\n",
        "\n",
        "# model.OBJ = pyo.Objective(rule=obj_expression)\n",
        "\n",
        "# def ax_constraint_rule(m, i):\n",
        "#     # return the expression for the constraint for i\n",
        "#     return sum(m.a[i,j] * m.x[j] for j in m.J) >= m.b[i]\n",
        "\n",
        "# # the next line creates one constraint for each member of the set model.I\n",
        "# model.AxbConstraint = pyo.Constraint(model.I, rule=ax_constraint_rule)"
      ],
      "id": "WB0Mcyag50-C",
      "execution_count": null,
      "outputs": []
    },
    {
      "cell_type": "code",
      "metadata": {
        "id": "9nuyIaEft9ps"
      },
      "source": [
        "prd = pd.read_csv('drive/MyDrive/model data/product_level_data.csv')\n",
        "prd = prd.loc[:,:'changeover'].set_index('product')"
      ],
      "id": "9nuyIaEft9ps",
      "execution_count": null,
      "outputs": []
    },
    {
      "cell_type": "code",
      "metadata": {
        "colab": {
          "base_uri": "https://localhost:8080/",
          "height": 203
        },
        "id": "dOrw9m117oKH",
        "outputId": "0dedf31d-9865-4c6a-e2da-e6b6307d4956"
      },
      "source": [
        "prd.head()"
      ],
      "id": "dOrw9m117oKH",
      "execution_count": null,
      "outputs": [
        {
          "output_type": "execute_result",
          "data": {
            "text/html": [
              "<div>\n",
              "<style scoped>\n",
              "    .dataframe tbody tr th:only-of-type {\n",
              "        vertical-align: middle;\n",
              "    }\n",
              "\n",
              "    .dataframe tbody tr th {\n",
              "        vertical-align: top;\n",
              "    }\n",
              "\n",
              "    .dataframe thead th {\n",
              "        text-align: right;\n",
              "    }\n",
              "</style>\n",
              "<table border=\"1\" class=\"dataframe\">\n",
              "  <thead>\n",
              "    <tr style=\"text-align: right;\">\n",
              "      <th></th>\n",
              "      <th>product_category</th>\n",
              "      <th>stage_1</th>\n",
              "      <th>stage_2</th>\n",
              "      <th>stage_3</th>\n",
              "      <th>stage_4</th>\n",
              "      <th>stage_5</th>\n",
              "      <th>stage_6</th>\n",
              "      <th>run_rate</th>\n",
              "      <th>changeover</th>\n",
              "    </tr>\n",
              "    <tr>\n",
              "      <th>product</th>\n",
              "      <th></th>\n",
              "      <th></th>\n",
              "      <th></th>\n",
              "      <th></th>\n",
              "      <th></th>\n",
              "      <th></th>\n",
              "      <th></th>\n",
              "      <th></th>\n",
              "      <th></th>\n",
              "    </tr>\n",
              "  </thead>\n",
              "  <tbody>\n",
              "    <tr>\n",
              "      <th>Product 1</th>\n",
              "      <td>Commercial</td>\n",
              "      <td>8</td>\n",
              "      <td>9</td>\n",
              "      <td>7</td>\n",
              "      <td>18.0</td>\n",
              "      <td>1.0</td>\n",
              "      <td>5.0</td>\n",
              "      <td>3.0</td>\n",
              "      <td>7</td>\n",
              "    </tr>\n",
              "    <tr>\n",
              "      <th>Product 2</th>\n",
              "      <td>Commercial</td>\n",
              "      <td>9</td>\n",
              "      <td>12</td>\n",
              "      <td>9</td>\n",
              "      <td>13.5</td>\n",
              "      <td>2.5</td>\n",
              "      <td>5.0</td>\n",
              "      <td>3.5</td>\n",
              "      <td>7</td>\n",
              "    </tr>\n",
              "    <tr>\n",
              "      <th>Product 3</th>\n",
              "      <td>Non-Commercial</td>\n",
              "      <td>9</td>\n",
              "      <td>7</td>\n",
              "      <td>9</td>\n",
              "      <td>12.5</td>\n",
              "      <td>2.5</td>\n",
              "      <td>6.5</td>\n",
              "      <td>5.0</td>\n",
              "      <td>6</td>\n",
              "    </tr>\n",
              "    <tr>\n",
              "      <th>Product 4</th>\n",
              "      <td>Non-Commercial</td>\n",
              "      <td>12</td>\n",
              "      <td>6</td>\n",
              "      <td>9</td>\n",
              "      <td>13.5</td>\n",
              "      <td>2.5</td>\n",
              "      <td>5.0</td>\n",
              "      <td>4.5</td>\n",
              "      <td>6</td>\n",
              "    </tr>\n",
              "  </tbody>\n",
              "</table>\n",
              "</div>"
            ],
            "text/plain": [
              "          product_category  stage_1  stage_2  ...  stage_6  run_rate  changeover\n",
              "product                                       ...                               \n",
              "Product 1       Commercial        8        9  ...      5.0       3.0           7\n",
              "Product 2       Commercial        9       12  ...      5.0       3.5           7\n",
              "Product 3   Non-Commercial        9        7  ...      6.5       5.0           6\n",
              "Product 4   Non-Commercial       12        6  ...      5.0       4.5           6\n",
              "\n",
              "[4 rows x 9 columns]"
            ]
          },
          "metadata": {},
          "execution_count": 6
        }
      ]
    },
    {
      "cell_type": "code",
      "metadata": {
        "colab": {
          "base_uri": "https://localhost:8080/"
        },
        "id": "v5EjDGuB-5z0",
        "outputId": "5c72fa45-7849-4d70-b823-2bebf910b80d"
      },
      "source": [
        "print(\"RUN-TIME\")\n",
        "for prod in prd.index:\n",
        "  print(prod + \": \", prd.loc[prod,'stage_1':'stage_6'].sum())\n",
        "print(\"\\n\\nRUN RATE\")\n",
        "for prod in prd.index:\n",
        "  print(prod + \": \", prd.loc[prod,'run_rate'])\n",
        "print(\"\\n\\nCHANGEOVER\")\n",
        "for prod in prd.index:\n",
        "  print(prod + \": \", prd.loc[prod,'changeover'])\n",
        "print(\"\\n\\nCATEGORY\")\n",
        "for prod in prd.index:\n",
        "  print(prod + \": \", prd.loc[prod,'product_category'])\n",
        "prd_names = prd.index.values\n",
        "print(\"\\n\\nPRODUCT NAMES\")\n",
        "print(prd_names,end=\"\\n\\n\")\n",
        "prd.loc[:,['run_rate','changeover']]\n",
        "\n",
        "trans_t = pd.DataFrame(index=prd_names,columns=prd_names)\n",
        "print(\"TRANSITION TIMES\")\n",
        "for i in prd_names:\n",
        "  for j in prd_names:\n",
        "    if i==j:\n",
        "      trans_t.loc[i,j] = prd.loc[j,'run_rate']\n",
        "    else:\n",
        "      trans_t.loc[i,j] = prd.loc[j,'changeover']  \n",
        "print(trans_t,end=\"\\n\\n\")"
      ],
      "id": "v5EjDGuB-5z0",
      "execution_count": null,
      "outputs": [
        {
          "output_type": "stream",
          "name": "stdout",
          "text": [
            "RUN-TIME\n",
            "Product 1:  48.0\n",
            "Product 2:  51.0\n",
            "Product 3:  46.5\n",
            "Product 4:  48.0\n",
            "\n",
            "\n",
            "RUN RATE\n",
            "Product 1:  3.0\n",
            "Product 2:  3.5\n",
            "Product 3:  5.0\n",
            "Product 4:  4.5\n",
            "\n",
            "\n",
            "CHANGEOVER\n",
            "Product 1:  7\n",
            "Product 2:  7\n",
            "Product 3:  6\n",
            "Product 4:  6\n",
            "\n",
            "\n",
            "CATEGORY\n",
            "Product 1:  Commercial\n",
            "Product 2:  Commercial\n",
            "Product 3:  Non-Commercial\n",
            "Product 4:  Non-Commercial\n",
            "\n",
            "\n",
            "PRODUCT NAMES\n",
            "['Product 1' 'Product 2' 'Product 3' 'Product 4']\n",
            "\n",
            "TRANSITION TIMES\n",
            "          Product 1 Product 2 Product 3 Product 4\n",
            "Product 1         3         7         6         6\n",
            "Product 2         7       3.5         6         6\n",
            "Product 3         7         7         5         6\n",
            "Product 4         7         7         6       4.5\n",
            "\n"
          ]
        }
      ]
    },
    {
      "cell_type": "code",
      "metadata": {
        "colab": {
          "base_uri": "https://localhost:8080/"
        },
        "id": "Uxcj_0sOLXqp",
        "outputId": "79a64171-eaeb-4335-8465-48393a7ab512"
      },
      "source": [
        "#Get transition time\n",
        "trans_t.loc['Product 1','Product 1']"
      ],
      "id": "Uxcj_0sOLXqp",
      "execution_count": null,
      "outputs": [
        {
          "output_type": "execute_result",
          "data": {
            "text/plain": [
              "3.0"
            ]
          },
          "metadata": {},
          "execution_count": 105
        }
      ]
    },
    {
      "cell_type": "markdown",
      "metadata": {
        "id": "j0BJNkyBj268"
      },
      "source": [
        "$$ Capacity\\ Utilization = \\frac{Production\\ Time}{Available\\ Time} $$"
      ],
      "id": "j0BJNkyBj268"
    },
    {
      "cell_type": "markdown",
      "metadata": {
        "id": "87FWi_dUhIpC"
      },
      "source": [
        "$$Production\\ Time = X_n + T_R(X_n) - X_1 - T_U(X_1, X_2, X_3,...,X_n)$$\n",
        "\n",
        "$X_i$ : start day  for process$_i$\n",
        "\n",
        "$T_R$ : Run length function\n",
        "\n",
        "$T_U$: Unused production interval\n"
      ],
      "id": "87FWi_dUhIpC"
    },
    {
      "cell_type": "markdown",
      "metadata": {
        "id": "-Aa19tFBk6EN"
      },
      "source": [
        "$$ X_i - X_{i-1} \\geq T_{tr}(X_i,X_{i-1})  $$\n",
        "\n",
        "$T_{tr} :$ transition length between two processes\n"
      ],
      "id": "-Aa19tFBk6EN"
    },
    {
      "cell_type": "code",
      "metadata": {
        "id": "pntWguhI2FgT"
      },
      "source": [
        "# MFC Constraint\n",
        "non_comm = pd.read_csv('drive/MyDrive/model data/non_comm_data.csv')\n",
        "cpg = pd.read_csv('drive/MyDrive/model data/cpg_data.csv')"
      ],
      "id": "pntWguhI2FgT",
      "execution_count": null,
      "outputs": []
    },
    {
      "cell_type": "code",
      "metadata": {
        "colab": {
          "base_uri": "https://localhost:8080/",
          "height": 192
        },
        "id": "9k6oOnctpgke",
        "outputId": "8853dce0-dd85-47ac-e68e-4c642662f5a0"
      },
      "source": [
        "cpg"
      ],
      "id": "9k6oOnctpgke",
      "execution_count": null,
      "outputs": [
        {
          "output_type": "execute_result",
          "data": {
            "text/html": [
              "<div>\n",
              "<style scoped>\n",
              "    .dataframe tbody tr th:only-of-type {\n",
              "        vertical-align: middle;\n",
              "    }\n",
              "\n",
              "    .dataframe tbody tr th {\n",
              "        vertical-align: top;\n",
              "    }\n",
              "\n",
              "    .dataframe thead th {\n",
              "        text-align: right;\n",
              "    }\n",
              "</style>\n",
              "<table border=\"1\" class=\"dataframe\">\n",
              "  <thead>\n",
              "    <tr style=\"text-align: right;\">\n",
              "      <th></th>\n",
              "      <th>product_name</th>\n",
              "      <th>product_category</th>\n",
              "      <th>machine_hour_per_lot</th>\n",
              "      <th>adj_to_site_COGM</th>\n",
              "      <th>total_COGM_assumptions</th>\n",
              "      <th>raw_material_per_lot</th>\n",
              "      <th>adj_to_RM</th>\n",
              "      <th>product_change_over_loss_per_lot</th>\n",
              "      <th>total_corporate_allocation</th>\n",
              "      <th>operating_loss_per_lot</th>\n",
              "      <th>wavg_termination_cost_per_lot</th>\n",
              "      <th>success_rate</th>\n",
              "      <th>year</th>\n",
              "      <th>adj_to_NS</th>\n",
              "      <th>yield_per_lot</th>\n",
              "    </tr>\n",
              "  </thead>\n",
              "  <tbody>\n",
              "    <tr>\n",
              "      <th>0</th>\n",
              "      <td>Product 1</td>\n",
              "      <td>Commercial</td>\n",
              "      <td>4800</td>\n",
              "      <td>0</td>\n",
              "      <td>150000000</td>\n",
              "      <td>870000</td>\n",
              "      <td>0</td>\n",
              "      <td>160000</td>\n",
              "      <td>32000000</td>\n",
              "      <td>12500</td>\n",
              "      <td>650333</td>\n",
              "      <td>0.97</td>\n",
              "      <td>2021</td>\n",
              "      <td>400000</td>\n",
              "      <td>7.0</td>\n",
              "    </tr>\n",
              "    <tr>\n",
              "      <th>1</th>\n",
              "      <td>Product 2</td>\n",
              "      <td>Commercial</td>\n",
              "      <td>5100</td>\n",
              "      <td>0</td>\n",
              "      <td>150000000</td>\n",
              "      <td>900000</td>\n",
              "      <td>0</td>\n",
              "      <td>160000</td>\n",
              "      <td>32000000</td>\n",
              "      <td>12500</td>\n",
              "      <td>650333</td>\n",
              "      <td>0.95</td>\n",
              "      <td>2021</td>\n",
              "      <td>0</td>\n",
              "      <td>15.0</td>\n",
              "    </tr>\n",
              "    <tr>\n",
              "      <th>2</th>\n",
              "      <td>Product 3</td>\n",
              "      <td>Non-Commercial</td>\n",
              "      <td>4200</td>\n",
              "      <td>2000000</td>\n",
              "      <td>150000000</td>\n",
              "      <td>900000</td>\n",
              "      <td>0</td>\n",
              "      <td>0</td>\n",
              "      <td>32000000</td>\n",
              "      <td>12500</td>\n",
              "      <td>0</td>\n",
              "      <td>0.75</td>\n",
              "      <td>2021</td>\n",
              "      <td>0</td>\n",
              "      <td>12.6</td>\n",
              "    </tr>\n",
              "    <tr>\n",
              "      <th>3</th>\n",
              "      <td>Product 4</td>\n",
              "      <td>Non-Commercial</td>\n",
              "      <td>4300</td>\n",
              "      <td>2000000</td>\n",
              "      <td>150000000</td>\n",
              "      <td>1000000</td>\n",
              "      <td>1000000</td>\n",
              "      <td>0</td>\n",
              "      <td>32000000</td>\n",
              "      <td>12500</td>\n",
              "      <td>0</td>\n",
              "      <td>0.75</td>\n",
              "      <td>2021</td>\n",
              "      <td>0</td>\n",
              "      <td>1.2</td>\n",
              "    </tr>\n",
              "  </tbody>\n",
              "</table>\n",
              "</div>"
            ],
            "text/plain": [
              "  product_name product_category  ...  adj_to_NS  yield_per_lot\n",
              "0    Product 1       Commercial  ...     400000            7.0\n",
              "1    Product 2       Commercial  ...          0           15.0\n",
              "2    Product 3   Non-Commercial  ...          0           12.6\n",
              "3    Product 4   Non-Commercial  ...          0            1.2\n",
              "\n",
              "[4 rows x 15 columns]"
            ]
          },
          "metadata": {},
          "execution_count": 101
        }
      ]
    },
    {
      "cell_type": "code",
      "metadata": {
        "colab": {
          "base_uri": "https://localhost:8080/"
        },
        "id": "bh1kmwfiq1P9",
        "outputId": "98b34eec-71b6-4813-b242-a70a9dc46b5e"
      },
      "source": [
        "# Product machine hours\n",
        "\n",
        "cpg.set_index('product_name').machine_hour_per_lot"
      ],
      "id": "bh1kmwfiq1P9",
      "execution_count": null,
      "outputs": [
        {
          "output_type": "execute_result",
          "data": {
            "text/plain": [
              "product_name\n",
              "Product 1    4800\n",
              "Product 2    5100\n",
              "Product 3    4200\n",
              "Product 4    4300\n",
              "Name: machine_hour_per_lot, dtype: int64"
            ]
          },
          "metadata": {},
          "execution_count": 103
        }
      ]
    },
    {
      "cell_type": "code",
      "metadata": {
        "colab": {
          "base_uri": "https://localhost:8080/"
        },
        "id": "I-r3H9h2rbkz",
        "outputId": "2a4268f4-dc39-46ce-9fd7-a2b7d28baf30"
      },
      "source": [
        "# Product success rate\n",
        "cpg.set_index('product_name').success_rate"
      ],
      "id": "I-r3H9h2rbkz",
      "execution_count": null,
      "outputs": [
        {
          "output_type": "execute_result",
          "data": {
            "text/plain": [
              "product_name\n",
              "Product 1    0.97\n",
              "Product 2    0.95\n",
              "Product 3    0.75\n",
              "Product 4    0.75\n",
              "Name: success_rate, dtype: float64"
            ]
          },
          "metadata": {},
          "execution_count": 104
        }
      ]
    },
    {
      "cell_type": "code",
      "metadata": {
        "colab": {
          "base_uri": "https://localhost:8080/",
          "height": 370
        },
        "id": "fEQjRbW40hVS",
        "outputId": "1883eed0-27e8-436f-dde8-cd7eef8a2100"
      },
      "source": [
        "# Product lead time\n",
        "# prd.iloc[:,1:7].sum(axis=1)\n",
        "model.lead_time = pe.Param(pp,prd.iloc[:,1:7].sum(axis=1))"
      ],
      "id": "fEQjRbW40hVS",
      "execution_count": null,
      "outputs": [
        {
          "output_type": "stream",
          "name": "stdout",
          "text": [
            "WARNING: Element 48.0 already exists in Set FiniteScalarSet; no action taken\n"
          ]
        },
        {
          "output_type": "error",
          "ename": "RuntimeError",
          "evalue": "ignored",
          "traceback": [
            "\u001b[0;31m---------------------------------------------------------------------------\u001b[0m",
            "\u001b[0;31mRuntimeError\u001b[0m                              Traceback (most recent call last)",
            "\u001b[0;32m<ipython-input-40-1159d2c057cd>\u001b[0m in \u001b[0;36m<module>\u001b[0;34m()\u001b[0m\n\u001b[1;32m      1\u001b[0m \u001b[0;31m# Product lead time\u001b[0m\u001b[0;34m\u001b[0m\u001b[0;34m\u001b[0m\u001b[0;34m\u001b[0m\u001b[0m\n\u001b[1;32m      2\u001b[0m \u001b[0;31m# prd.iloc[:,1:7].sum(axis=1)\u001b[0m\u001b[0;34m\u001b[0m\u001b[0;34m\u001b[0m\u001b[0;34m\u001b[0m\u001b[0m\n\u001b[0;32m----> 3\u001b[0;31m \u001b[0mmodel\u001b[0m\u001b[0;34m.\u001b[0m\u001b[0mlead_time\u001b[0m \u001b[0;34m=\u001b[0m \u001b[0mpe\u001b[0m\u001b[0;34m.\u001b[0m\u001b[0mParam\u001b[0m\u001b[0;34m(\u001b[0m\u001b[0mpp\u001b[0m\u001b[0;34m,\u001b[0m\u001b[0mprd\u001b[0m\u001b[0;34m.\u001b[0m\u001b[0miloc\u001b[0m\u001b[0;34m[\u001b[0m\u001b[0;34m:\u001b[0m\u001b[0;34m,\u001b[0m\u001b[0;36m1\u001b[0m\u001b[0;34m:\u001b[0m\u001b[0;36m7\u001b[0m\u001b[0;34m]\u001b[0m\u001b[0;34m.\u001b[0m\u001b[0msum\u001b[0m\u001b[0;34m(\u001b[0m\u001b[0maxis\u001b[0m\u001b[0;34m=\u001b[0m\u001b[0;36m1\u001b[0m\u001b[0;34m)\u001b[0m\u001b[0;34m)\u001b[0m\u001b[0;34m\u001b[0m\u001b[0;34m\u001b[0m\u001b[0m\n\u001b[0m",
            "\u001b[0;32m/usr/local/lib/python3.7/dist-packages/pyomo/core/base/block.py\u001b[0m in \u001b[0;36m__setattr__\u001b[0;34m(self, name, val)\u001b[0m\n\u001b[1;32m    539\u001b[0m                 \u001b[0;31m# Pyomo components are added with the add_component method.\u001b[0m\u001b[0;34m\u001b[0m\u001b[0;34m\u001b[0m\u001b[0;34m\u001b[0m\u001b[0m\n\u001b[1;32m    540\u001b[0m                 \u001b[0;31m#\u001b[0m\u001b[0;34m\u001b[0m\u001b[0;34m\u001b[0m\u001b[0;34m\u001b[0m\u001b[0m\n\u001b[0;32m--> 541\u001b[0;31m                 \u001b[0mself\u001b[0m\u001b[0;34m.\u001b[0m\u001b[0madd_component\u001b[0m\u001b[0;34m(\u001b[0m\u001b[0mname\u001b[0m\u001b[0;34m,\u001b[0m \u001b[0mval\u001b[0m\u001b[0;34m)\u001b[0m\u001b[0;34m\u001b[0m\u001b[0;34m\u001b[0m\u001b[0m\n\u001b[0m\u001b[1;32m    542\u001b[0m             \u001b[0;32melse\u001b[0m\u001b[0;34m:\u001b[0m\u001b[0;34m\u001b[0m\u001b[0;34m\u001b[0m\u001b[0m\n\u001b[1;32m    543\u001b[0m                 \u001b[0;31m#\u001b[0m\u001b[0;34m\u001b[0m\u001b[0;34m\u001b[0m\u001b[0;34m\u001b[0m\u001b[0m\n",
            "\u001b[0;32m/usr/local/lib/python3.7/dist-packages/pyomo/core/base/block.py\u001b[0m in \u001b[0;36madd_component\u001b[0;34m(self, name, val)\u001b[0m\n\u001b[1;32m    981\u001b[0m         \u001b[0;31m# components.\u001b[0m\u001b[0;34m\u001b[0m\u001b[0;34m\u001b[0m\u001b[0;34m\u001b[0m\u001b[0m\n\u001b[1;32m    982\u001b[0m         \u001b[0;31m#\u001b[0m\u001b[0;34m\u001b[0m\u001b[0;34m\u001b[0m\u001b[0;34m\u001b[0m\u001b[0m\n\u001b[0;32m--> 983\u001b[0;31m         \u001b[0mself\u001b[0m\u001b[0;34m.\u001b[0m\u001b[0m_add_implicit_sets\u001b[0m\u001b[0;34m(\u001b[0m\u001b[0mval\u001b[0m\u001b[0;34m)\u001b[0m\u001b[0;34m\u001b[0m\u001b[0;34m\u001b[0m\u001b[0m\n\u001b[0m\u001b[1;32m    984\u001b[0m         \u001b[0;31m#\u001b[0m\u001b[0;34m\u001b[0m\u001b[0;34m\u001b[0m\u001b[0;34m\u001b[0m\u001b[0m\n\u001b[1;32m    985\u001b[0m         \u001b[0;31m# Add the component to the underlying Component store\u001b[0m\u001b[0;34m\u001b[0m\u001b[0;34m\u001b[0m\u001b[0;34m\u001b[0m\u001b[0m\n",
            "\u001b[0;32m/usr/local/lib/python3.7/dist-packages/pyomo/core/base/block.py\u001b[0m in \u001b[0;36m_add_implicit_sets\u001b[0;34m(self, val)\u001b[0m\n\u001b[1;32m    798\u001b[0m                 \u001b[0;32mif\u001b[0m \u001b[0mtset\u001b[0m\u001b[0;34m.\u001b[0m\u001b[0mparent_component\u001b[0m\u001b[0;34m(\u001b[0m\u001b[0;34m)\u001b[0m\u001b[0;34m.\u001b[0m\u001b[0mparent_block\u001b[0m\u001b[0;34m(\u001b[0m\u001b[0;34m)\u001b[0m \u001b[0;32mis\u001b[0m \u001b[0;32mNone\u001b[0m\u001b[0;31m \u001b[0m\u001b[0;31m\\\u001b[0m\u001b[0;34m\u001b[0m\u001b[0;34m\u001b[0m\u001b[0m\n\u001b[1;32m    799\u001b[0m                         \u001b[0;32mand\u001b[0m \u001b[0;32mnot\u001b[0m \u001b[0misinstance\u001b[0m\u001b[0;34m(\u001b[0m\u001b[0mtset\u001b[0m\u001b[0;34m.\u001b[0m\u001b[0mparent_component\u001b[0m\u001b[0;34m(\u001b[0m\u001b[0;34m)\u001b[0m\u001b[0;34m,\u001b[0m \u001b[0mGlobalSetBase\u001b[0m\u001b[0;34m)\u001b[0m\u001b[0;34m:\u001b[0m\u001b[0;34m\u001b[0m\u001b[0;34m\u001b[0m\u001b[0m\n\u001b[0;32m--> 800\u001b[0;31m                     \u001b[0mself\u001b[0m\u001b[0;34m.\u001b[0m\u001b[0madd_component\u001b[0m\u001b[0;34m(\u001b[0m\u001b[0;34m\"%s_index_%d\"\u001b[0m \u001b[0;34m%\u001b[0m \u001b[0;34m(\u001b[0m\u001b[0mval\u001b[0m\u001b[0;34m.\u001b[0m\u001b[0mlocal_name\u001b[0m\u001b[0;34m,\u001b[0m \u001b[0mctr\u001b[0m\u001b[0;34m)\u001b[0m\u001b[0;34m,\u001b[0m \u001b[0mtset\u001b[0m\u001b[0;34m)\u001b[0m\u001b[0;34m\u001b[0m\u001b[0;34m\u001b[0m\u001b[0m\n\u001b[0m\u001b[1;32m    801\u001b[0m         \u001b[0;32mif\u001b[0m \u001b[0mgetattr\u001b[0m\u001b[0;34m(\u001b[0m\u001b[0mval\u001b[0m\u001b[0;34m,\u001b[0m \u001b[0;34m'_index'\u001b[0m\u001b[0;34m,\u001b[0m \u001b[0;32mNone\u001b[0m\u001b[0;34m)\u001b[0m \u001b[0;32mis\u001b[0m \u001b[0;32mnot\u001b[0m \u001b[0;32mNone\u001b[0m\u001b[0;31m \u001b[0m\u001b[0;31m\\\u001b[0m\u001b[0;34m\u001b[0m\u001b[0;34m\u001b[0m\u001b[0m\n\u001b[1;32m    802\u001b[0m                 \u001b[0;32mand\u001b[0m \u001b[0misinstance\u001b[0m\u001b[0;34m(\u001b[0m\u001b[0mval\u001b[0m\u001b[0;34m.\u001b[0m\u001b[0m_index\u001b[0m\u001b[0;34m,\u001b[0m \u001b[0m_SetDataBase\u001b[0m\u001b[0;34m)\u001b[0m\u001b[0;31m \u001b[0m\u001b[0;31m\\\u001b[0m\u001b[0;34m\u001b[0m\u001b[0;34m\u001b[0m\u001b[0m\n",
            "\u001b[0;32m/usr/local/lib/python3.7/dist-packages/pyomo/core/base/block.py\u001b[0m in \u001b[0;36madd_component\u001b[0;34m(self, name, val)\u001b[0m\n\u001b[1;32m    924\u001b[0m                 \u001b[0;34m\"Cannot add component '%s' (type %s) to block '%s': a \"\u001b[0m\u001b[0;34m\u001b[0m\u001b[0;34m\u001b[0m\u001b[0m\n\u001b[1;32m    925\u001b[0m                 \u001b[0;34m\"component by that name (type %s) is already defined.\"\u001b[0m\u001b[0;34m\u001b[0m\u001b[0;34m\u001b[0m\u001b[0m\n\u001b[0;32m--> 926\u001b[0;31m                 % (name, type(val), self.name, type(getattr(self, name))))\n\u001b[0m\u001b[1;32m    927\u001b[0m         \u001b[0;31m#\u001b[0m\u001b[0;34m\u001b[0m\u001b[0;34m\u001b[0m\u001b[0;34m\u001b[0m\u001b[0m\n\u001b[1;32m    928\u001b[0m         \u001b[0;31m# Skip the add_component() logic if this is a\u001b[0m\u001b[0;34m\u001b[0m\u001b[0;34m\u001b[0m\u001b[0;34m\u001b[0m\u001b[0m\n",
            "\u001b[0;31mRuntimeError\u001b[0m: Cannot add component 'lead_time_index_1' (type <class 'pyomo.core.base.set.FiniteScalarSet'>) to block 'unknown': a component by that name (type <class 'pyomo.core.base.set.FiniteScalarSet'>) is already defined."
          ]
        }
      ]
    },
    {
      "cell_type": "code",
      "metadata": {
        "colab": {
          "base_uri": "https://localhost:8080/"
        },
        "id": "fyzPECVX4lV_",
        "outputId": "00171e73-0658-4d22-ff5f-1c240d21650e"
      },
      "source": [
        "prd.iloc[:,1:7].sum(axis=1)"
      ],
      "id": "fyzPECVX4lV_",
      "execution_count": null,
      "outputs": [
        {
          "output_type": "execute_result",
          "data": {
            "text/plain": [
              "product\n",
              "Product 1    48.0\n",
              "Product 2    51.0\n",
              "Product 3    46.5\n",
              "Product 4    48.0\n",
              "dtype: float64"
            ]
          },
          "metadata": {},
          "execution_count": 42
        }
      ]
    },
    {
      "cell_type": "code",
      "metadata": {
        "id": "VDE5d1sA4zgm"
      },
      "source": [
        "pp = ['Product 1','Product 2','Product 3','Product 4']"
      ],
      "id": "VDE5d1sA4zgm",
      "execution_count": null,
      "outputs": []
    }
  ]
}